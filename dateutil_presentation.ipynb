{
 "cells": [
  {
   "cell_type": "raw",
   "metadata": {},
   "source": [
    "<div style='font-size: 72px; text-align: center; height: 95%'>\n",
    "    <b><tt>python-dateutil</tt></b>\n",
    "    <b><div style='font-size: 64px; text-align: center'>A delightful romp in the never-confusing world of dates and times</div></b>\n",
    "    <br/>\n",
    "    <br/>\n",
    "    <span style='font-size: 50px'>\n",
    "        Paul Ganssle<br/>\n",
    "        <img src=\"images/bloomberg-logo-black.svg\" style=\"border: none; box-shadow: none; height: 45px\"><br/>\n",
    "        <div style=\"text-align:center\"><img src=\"images/pganssle-logos.svg\" style=\"border: 0px; box-shadow: none; height: 40px; display:inline\"></div>\n",
    "        </span>\n",
    "</div>\n",
    "<br/><br/>\n",
    "<div style=\"text-align: center; font-size: 20px\">\n",
    "<i><a href=\"https://github.com/dateutil/dateutil\">dateutil on Github</a></i></br>\n",
    "<i><a href=\"https://github.com/pganssle/tdp-2018-dateutil-talk\">Github repo for this talk</a></i>\n",
    "</div>"
   ]
  },
  {
   "cell_type": "code",
   "execution_count": 1,
   "metadata": {
    "slideshow": {
     "slide_type": "skip"
    }
   },
   "outputs": [],
   "source": [
    "from dateutil.relativedelta import relativedelta\n",
    "from dateutil.rrule import rrule\n",
    "from dateutil import tz\n",
    "from dateutil.parser import parse, isoparse\n",
    "\n",
    "from datetime import datetime, timedelta"
   ]
  },
  {
   "cell_type": "code",
   "execution_count": 2,
   "metadata": {
    "nbpresent": {
     "id": "8586e12f-9d8f-48f5-9dab-8485f02c37ba"
    },
    "slideshow": {
     "slide_type": "skip"
    }
   },
   "outputs": [],
   "source": [
    "from dateutil.relativedelta import MO, TU, WE, TH, FR, SA, SU"
   ]
  },
  {
   "cell_type": "code",
   "execution_count": 3,
   "metadata": {
    "nbpresent": {
     "id": "40b6f30a-dd5c-49e3-b59a-8edd687f4921"
    },
    "slideshow": {
     "slide_type": "skip"
    }
   },
   "outputs": [],
   "source": [
    "from helper_functions import print_dts"
   ]
  },
  {
   "cell_type": "markdown",
   "metadata": {
    "slideshow": {
     "slide_type": "slide"
    }
   },
   "source": [
    "### Out of 12,469 issues in pandas:\n",
    "![pandas-image-filter](images/pandas-nofilter.png)\n"
   ]
  },
  {
   "cell_type": "markdown",
   "metadata": {
    "slideshow": {
     "slide_type": "fragment"
    }
   },
   "source": [
    "### **2980** (24%) are about datetimes:\n",
    "\n",
    "![pandas-image-filter](images/pandas-datetime-filter.png)\n"
   ]
  },
  {
   "cell_type": "markdown",
   "metadata": {
    "slideshow": {
     "slide_type": "subslide"
    }
   },
   "source": [
    "## Time zones"
   ]
  },
  {
   "cell_type": "markdown",
   "metadata": {},
   "source": [
    "### Non-integer offsets\n",
    "\n",
    "**Examples:**\n",
    "- `Australia/Adelaide` (+09:30)\n",
    "- `Asia/Kathmandu` (+05:45)\n",
    "- `Africa/Monrovia` (+00:44:30) (Before 1979)"
   ]
  },
  {
   "cell_type": "markdown",
   "metadata": {
    "slideshow": {
     "slide_type": "fragment"
    }
   },
   "source": [
    "### More than one DST transition per year\n",
    "\n",
    "* Morroco, 2012\n",
    "    * `WET  (+0 STD) -> WEST (+1 DST)  2012-04-29`\n",
    "    * `WEST (+1 DST) -> WET  (+0 STD)  2012-07-20`\n",
    "    * `WET  (+0 STD) -> WEST (+1 DST)  2012-08-20`\n",
    "    * `WEST (+1 DST) -> WET  (+0 STD)  2012-09-30`\n",
    "\n",
    "... and Morocco in 2013-present, and Egypt in 2010 and 2014, and Palestine in 2011."
   ]
  },
  {
   "cell_type": "markdown",
   "metadata": {
    "slideshow": {
     "slide_type": "skip"
    }
   },
   "source": [
    "## Time zones"
   ]
  },
  {
   "cell_type": "markdown",
   "metadata": {
    "slideshow": {
     "slide_type": "skip"
    }
   },
   "source": [
    "### More than one time zone per offset name\n",
    "\n",
    "- `CST`\n",
    "    - China Standard Time: `Asia/Shanghai`\n",
    "    - Cuba Standard Time: `America/Havana`\n",
    "    - Central Standard Time:\n",
    "        - `America/Chicago` (Winter)\n",
    "        - `America/Regina` / `America/Swift_Current` (Year round)\n",
    "        - `America/Cancun` (Before 1981)\n",
    "        - ..."
   ]
  },
  {
   "cell_type": "markdown",
   "metadata": {
    "slideshow": {
     "slide_type": "notes"
    }
   },
   "source": [
    "## More than one timezone *per place*\n",
    "\n",
    "Officially, China has a single timezone (`Asia/Shanghai`) for the entire country (UTC+8), but unofficially in Xinjiang they observe [Xinjiang Time](https://en.wikipedia.org/wiki/Xinjiang_Time). Quoting Wikipedia entry:\n",
    "\n",
    "> Currently, the timezone used within Xinjiang is roughly split along the ethnic divide, with most ethnic Han population in the area following Beijing Time, and most ethnic Uyghur population as well as population of some other ethnics in the area following Xinjiang Time.\n"
   ]
  },
  {
   "cell_type": "markdown",
   "metadata": {
    "slideshow": {
     "slide_type": "subslide"
    }
   },
   "source": [
    "### `Asia/Shanghai`\n",
    "![Asia/Shanghai time zone map](images/china_shanghai.png)"
   ]
  },
  {
   "cell_type": "markdown",
   "metadata": {
    "slideshow": {
     "slide_type": "subslide"
    }
   },
   "source": [
    "### `Asia/Urumqi`\n",
    "![Asia/Shanghai time zone map](images/china_overlay.png)"
   ]
  },
  {
   "cell_type": "markdown",
   "metadata": {
    "slideshow": {
     "slide_type": "subslide"
    }
   },
   "source": [
    "## Parsing"
   ]
  },
  {
   "cell_type": "markdown",
   "metadata": {},
   "source": [
    "Just a sample of ways people write datetimes:\n",
    "\n",
    "- `1994-11-05T08:15:30Z`\n",
    "- `1994-11-05T14:00:30+05:45`\n",
    "- `19941105T08:15:30+0000`\n",
    "- `1994-11-05T081530+00:00`\n",
    "- `1994-W44-6T08:15:30+00:00`\n",
    "- `1994-11-05 08:15:30Z`\n",
    "- `1994-11-05T08:15:30,000Z`\n",
    "- `1994-11-05T08:15:30.000Z`"
   ]
  },
  {
   "cell_type": "markdown",
   "metadata": {
    "slideshow": {
     "slide_type": "fragment"
    }
   },
   "source": [
    "**... and that's just a few ISO 8601/RFC 3339 representations**\n",
    "\n",
    "Don't forget:\n",
    "\n",
    "- `2014 Feb 12 10:30pm`\n",
    "- `2014年12月30日`\n",
    "- `12:30 PM`\n",
    "- `13NOV2017`\n",
    "- `December.0031.30`"
   ]
  },
  {
   "cell_type": "markdown",
   "metadata": {
    "slideshow": {
     "slide_type": "subslide"
    }
   },
   "source": [
    "## Recurrences"
   ]
  },
  {
   "cell_type": "code",
   "execution_count": 4,
   "metadata": {},
   "outputs": [
    {
     "name": "stdout",
     "output_type": "stream",
     "text": [
      "2017-03-09 17:00:00-05:00\n",
      "2017-03-10 17:00:00-05:00\n",
      "2017-03-13 17:00:00-04:00\n",
      "2017-03-14 17:00:00-04:00\n",
      "2017-03-15 17:00:00-04:00\n"
     ]
    }
   ],
   "source": [
    "from dateutil import rrule as rr\n",
    "\n",
    "# Close of business in New York on weekdays\n",
    "closing_times = rr.rrule(freq=rr.DAILY, byweekday=(rr.MO, rr.TU, rr.WE, rr.TH, rr.FR),\n",
    "                         byhour=17, dtstart=datetime(2017, 3, 9, 17), count=5)\n",
    "\n",
    "for dt in closing_times:\n",
    "    print(dt.replace(tzinfo=tz.gettz('America/New_York')))"
   ]
  },
  {
   "cell_type": "code",
   "execution_count": 5,
   "metadata": {},
   "outputs": [
    {
     "name": "stdout",
     "output_type": "stream",
     "text": [
      "2017-03-09 22:00:00+00:00\n",
      "2017-03-10 22:00:00+00:00\n",
      "2017-03-13 21:00:00+00:00\n",
      "2017-03-14 21:00:00+00:00\n",
      "2017-03-15 21:00:00+00:00\n"
     ]
    }
   ],
   "source": [
    "for dt in closing_times:\n",
    "    print(dt.replace(tzinfo=tz.gettz('America/New_York')).astimezone(tz.UTC))"
   ]
  },
  {
   "cell_type": "markdown",
   "metadata": {
    "slideshow": {
     "slide_type": "subslide"
    }
   },
   "source": [
    "## Calendar offsets"
   ]
  },
  {
   "cell_type": "code",
   "execution_count": 6,
   "metadata": {
    "slideshow": {
     "slide_type": "skip"
    }
   },
   "outputs": [],
   "source": [
    "from dateutil.relativedelta import SU"
   ]
  },
  {
   "cell_type": "code",
   "execution_count": 7,
   "metadata": {},
   "outputs": [
    {
     "data": {
      "text/plain": [
       "datetime.datetime(2018, 2, 28, 0, 0)"
      ]
     },
     "execution_count": 7,
     "metadata": {},
     "output_type": "execute_result"
    }
   ],
   "source": [
    "# Pins to the end of the month\n",
    "datetime(2018, 1, 31) + relativedelta(months=1)"
   ]
  },
  {
   "cell_type": "code",
   "execution_count": 8,
   "metadata": {},
   "outputs": [
    {
     "data": {
      "text/plain": [
       "datetime.datetime(2018, 4, 30, 0, 0)"
      ]
     },
     "execution_count": 8,
     "metadata": {},
     "output_type": "execute_result"
    }
   ],
   "source": [
    "datetime(2018, 1, 31) + relativedelta(months=3)"
   ]
  },
  {
   "cell_type": "code",
   "execution_count": 9,
   "metadata": {
    "slideshow": {
     "slide_type": "fragment"
    }
   },
   "outputs": [
    {
     "name": "stdout",
     "output_type": "stream",
     "text": [
      "               start_date               |             +relativedelta             \n",
      "----------------------------------------|----------------------------------------\n",
      "               2015-02-01               |               2015-03-01               \n",
      "               2015-02-28               |               2015-03-01               \n",
      "               2015-03-01               |               2015-04-01               \n"
     ]
    }
   ],
   "source": [
    "# Get the beginning of the next month\n",
    "next_month = relativedelta(months=1, day=1)\n",
    "dts = [datetime(2015, 2, 1),  datetime(2015, 2, 28), datetime(2015, 3, 1)]\n",
    "print_dts([(x, x + next_month) for x in dts])"
   ]
  },
  {
   "cell_type": "markdown",
   "metadata": {
    "nbpresent": {
     "id": "679a49fa-4450-4ac5-a09b-4c26467bb0cf"
    },
    "slideshow": {
     "slide_type": "slide"
    }
   },
   "source": [
    "## Package overview:\n",
    "- `tz`: Time zone handling\n",
    "- `parser`: Parsing arbitrary datetimes\n",
    "- `rrule`: Generation of recurrence relations\n",
    "- `relativedelta`: Handling of \"calendar\" offsets\n",
    "- `easter`: Calculation of easter"
   ]
  },
  {
   "cell_type": "markdown",
   "metadata": {
    "nbpresent": {
     "id": "ae4b457d-959b-41ca-8571-92c70a2dc5a6"
    },
    "slideshow": {
     "slide_type": "slide"
    }
   },
   "source": [
    "# `dateutil.tz`\n",
    "\n",
    "dateutil also provides a number of classes to conveniently construct and represent time zones.\n",
    "\n",
    "Way more detail on this in my talk \"Timezone Troubles\" (see https://ganssle.io/talks)"
   ]
  },
  {
   "cell_type": "code",
   "execution_count": 10,
   "metadata": {
    "nbpresent": {
     "id": "c23203a4-7663-4016-8c63-9354e4341dbc"
    },
    "slideshow": {
     "slide_type": "skip"
    }
   },
   "outputs": [],
   "source": [
    "from dateutil.tz import gettz\n",
    "from dateutil.tz import tzutc, tzoffset, tzlocal\n",
    "from dateutil.tz import tzstr, tzrange, tzfile"
   ]
  },
  {
   "cell_type": "markdown",
   "metadata": {
    "nbpresent": {
     "id": "fd7b8eb5-ebc6-4905-b222-515e5d474d86"
    },
    "slideshow": {
     "slide_type": "skip"
    }
   },
   "source": [
    "When attached to a `datetime`, a `tzinfo` objects provides the following information (as a function of date):\n",
    "- UTC offset\n",
    "- DST offset\n",
    "- A printable name for the zone"
   ]
  },
  {
   "cell_type": "code",
   "execution_count": 11,
   "metadata": {
    "nbpresent": {
     "id": "8843448e-a736-4604-8e4d-f2e4af193191"
    },
    "slideshow": {
     "slide_type": "skip"
    }
   },
   "outputs": [
    {
     "name": "stdout",
     "output_type": "stream",
     "text": [
      "2016-09-15 14:00:00-0400:\n",
      "    tzname:   EDT;      UTC Offset:  -4.00h;           DST:      1.0h\n",
      "2016-11-15 14:00:00-0500:\n",
      "    tzname:   EST;      UTC Offset:  -5.00h;           DST:      0.0h\n"
     ]
    }
   ],
   "source": [
    "from helper_functions import print_tzinfo\n",
    "from dateutil.tz import gettz\n",
    "NYC = gettz('America/New_York')\n",
    "\n",
    "print_tzinfo(datetime(2016, 9, 15, 14, tzinfo=NYC))\n",
    "print_tzinfo(datetime(2016, 11, 15, 14, tzinfo=NYC))"
   ]
  },
  {
   "cell_type": "markdown",
   "metadata": {
    "nbpresent": {
     "id": "1b36334e-b088-48a5-9f79-28e8f4c7731d"
    },
    "slideshow": {
     "slide_type": "subslide"
    }
   },
   "source": [
    "### `dateutil.tz.tzutc()`\n",
    "The `tzutc()` subclass is an alias for the universal coordinated time zone. It has an offset of 0 and does not have DST. As of version 2.7.0, there is a dedicated UTC singleton, `dateutil.tz.UTC`"
   ]
  },
  {
   "cell_type": "markdown",
   "metadata": {
    "nbpresent": {
     "id": "c92681e2-dd9b-4158-bdb1-aa4b3855c9f2"
    },
    "slideshow": {
     "slide_type": "skip"
    }
   },
   "source": [
    "### `dateutil.tz.tzoffset()`\n",
    "The `tzoffset()` subclass represents zones with a fixed offset from UTC. It is constructed from a `tzname` and corresponding offset, either in seconds or as a `timedelta` (dateutil 2.6.0 only):"
   ]
  },
  {
   "cell_type": "code",
   "execution_count": 12,
   "metadata": {
    "nbpresent": {
     "id": "0d52e996-0702-4cfe-80e3-6a438918551e"
    },
    "slideshow": {
     "slide_type": "skip"
    }
   },
   "outputs": [
    {
     "name": "stdout",
     "output_type": "stream",
     "text": [
      "2016-07-17 21:15:00+0900:\n",
      "    tzname:   JST;      UTC Offset:   9.00h;           DST:      0.0h\n",
      "2016-07-17 17:45:00+0530:\n",
      "    tzname:   IST;      UTC Offset:   5.50h;           DST:      0.0h\n",
      "2016-07-17 07:15:00-0500:\n",
      "    tzname:  None;      UTC Offset:  -5.00h;           DST:      0.0h\n"
     ]
    }
   ],
   "source": [
    "JST = tzoffset('JST', 32400)                       # Japan Standard Time is year round\n",
    "IST = tzoffset('IST',                              # India Standard Time is year round\n",
    "               timedelta(hours=5, minutes=30))  \n",
    "EST = tzoffset(None, timedelta(hours=-5))          # Can use None as a name\n",
    "\n",
    "dt = datetime(2016, 7, 17, 12, 15, tzinfo=tz.UTC)\n",
    "print_tzinfo(dt.astimezone(JST))\n",
    "print_tzinfo(dt.astimezone(IST))\n",
    "print_tzinfo(dt.astimezone(EST))"
   ]
  },
  {
   "cell_type": "markdown",
   "metadata": {
    "collapsed": true,
    "nbpresent": {
     "id": "265acf8c-7e77-4dc8-8dc2-3b41be08da83"
    },
    "slideshow": {
     "slide_type": "fragment"
    }
   },
   "source": [
    "### `dateutil.tz.tzlocal`\n",
    "The `tzlocal()` object pulls time zone information from what the OS believes is the local time zone."
   ]
  },
  {
   "cell_type": "code",
   "execution_count": 13,
   "metadata": {
    "nbpresent": {
     "id": "46839b0a-7318-49c4-ba0a-c7990ba40c4f"
    }
   },
   "outputs": [
    {
     "name": "stdout",
     "output_type": "stream",
     "text": [
      "2016-07-17 08:15:00-0400:\n",
      "    tzname:   EDT;      UTC Offset:  -4.00h;           DST:      1.0h\n",
      "\n",
      "2016-07-17 12:15:00+0000:\n",
      "    tzname:   UTC;      UTC Offset:   0.00h;           DST:      0.0h\n",
      "\n",
      "2017-01-13 04:15:00-0800:\n",
      "    tzname:   PST;      UTC Offset:  -8.00h;           DST:      0.0h\n"
     ]
    }
   ],
   "source": [
    "# Temporarily changes the TZ file on *nix systems.\n",
    "from helper_functions import TZEnvContext\n",
    "\n",
    "print_tzinfo(dt.astimezone(tz.tzlocal())); print()\n",
    "\n",
    "with TZEnvContext('UTC'):\n",
    "    print_tzinfo(dt.astimezone(tz.tzlocal())); print()\n",
    "\n",
    "with TZEnvContext('PST8PDT'):\n",
    "    print_tzinfo((dt + timedelta(days=180)).astimezone(tzlocal()))"
   ]
  },
  {
   "cell_type": "markdown",
   "metadata": {
    "nbpresent": {
     "id": "6387a7f2-b75f-46c7-9e97-a84cd6d7f572"
    },
    "slideshow": {
     "slide_type": "subslide"
    }
   },
   "source": [
    "### `dateutil.tz.tzfile`\n",
    "The `tzfile` specification is a binary format that is in common use among most platforms, and is the format of the compiled IANA (Olson) `zoneinfo` database. This database is the most accurate and widely supported source for time zone information, and is shipped with many OSes. A copy of the database is also shipped with `dateutil` as a fallback.\n",
    "\n",
    "If you have an IANA time zone name (e.g. `'America/New_York'`, `'Europe/Belgium'`, `'Asia/Tokyo'`), you should use it if possible.\n",
    "\n",
    "It is possible to construct a `tzfile` directly from either a path to a file or an open file object. This is *not* the recommended way to do this as a matter of course, but it is supported. It is much preferred to just pass the timezone identifier to `gettz()`, which will check the standard paths for you (and fall back to the bundled `zoneinfo` data)."
   ]
  },
  {
   "cell_type": "code",
   "execution_count": 14,
   "metadata": {
    "nbpresent": {
     "id": "a9d6971f-f5ae-4b1b-b6e3-e55c8888df85"
    }
   },
   "outputs": [
    {
     "name": "stdout",
     "output_type": "stream",
     "text": [
      "2016-07-17 08:15:00-0400:\n",
      "    tzname:   EDT;      UTC Offset:  -4.00h;           DST:      1.0h\n",
      "1944-01-06 12:15:00-0400:\n",
      "    tzname:   EWT;      UTC Offset:  -4.00h;           DST:      1.0h\n",
      "1901-09-06 16:07:00-0456:\n",
      "    tzname:   LMT;      UTC Offset:  -4.93h;           DST:      0.0h\n"
     ]
    }
   ],
   "source": [
    "NYC = tz.tzfile('/usr/share/zoneinfo/America/New_York')\n",
    "assert NYC == tz.gettz('America/New_York')\n",
    "\n",
    "print_tzinfo(dt.astimezone(NYC))                         # Eastern Daylight Time\n",
    "print_tzinfo(datetime(1944, 1, 6, 12, 15, tzinfo=NYC))   # Eastern War Time\n",
    "print_tzinfo(datetime(1901, 9, 6, 16, 7, tzinfo=NYC))    # Local solar mean"
   ]
  },
  {
   "cell_type": "markdown",
   "metadata": {
    "nbpresent": {
     "id": "dc9f19bc-dcc4-443c-b27e-e8c074f0223b"
    },
    "slideshow": {
     "slide_type": "subslide"
    }
   },
   "source": [
    "### dateutil.tz.gettz\n",
    "The best way to get a time zone is to pass the relevant timezone string to the `gettz()` function, which is intended to be a Python equivalent to the `TZ` environment variable."
   ]
  },
  {
   "cell_type": "markdown",
   "metadata": {
    "nbpresent": {
     "id": "f74d10b8-0fff-463a-afe4-1e944732061c"
    },
    "slideshow": {
     "slide_type": "fragment"
    }
   },
   "source": [
    "Passing nothing gets the current local time zone:"
   ]
  },
  {
   "cell_type": "code",
   "execution_count": 15,
   "metadata": {
    "nbpresent": {
     "id": "6e6c3715-7bbe-4842-a007-8b6a410efe24"
    },
    "slideshow": {
     "slide_type": "-"
    }
   },
   "outputs": [
    {
     "data": {
      "text/plain": [
       "tzfile('/etc/localtime')"
      ]
     },
     "execution_count": 15,
     "metadata": {},
     "output_type": "execute_result"
    }
   ],
   "source": [
    "gettz()"
   ]
  },
  {
   "cell_type": "code",
   "execution_count": 16,
   "metadata": {
    "nbpresent": {
     "id": "f567537d-81af-4865-b1a7-8ab275c33e33"
    },
    "slideshow": {
     "slide_type": "skip"
    }
   },
   "outputs": [
    {
     "name": "stdout",
     "output_type": "stream",
     "text": [
      "tzfile('/usr/share/zoneinfo/CST6CDT')\n"
     ]
    }
   ],
   "source": [
    "# If you have a TZ file set, it is prioritized over the /etc/localtime tzfile.\n",
    "with TZEnvContext('CST6CDT'):\n",
    "    print(gettz())"
   ]
  },
  {
   "cell_type": "code",
   "execution_count": 17,
   "metadata": {
    "nbpresent": {
     "id": "fed3c907-164c-4d48-b2ec-70179f5a7795"
    },
    "slideshow": {
     "slide_type": "skip"
    }
   },
   "outputs": [
    {
     "name": "stdout",
     "output_type": "stream",
     "text": [
      "tzlocal()\n"
     ]
    }
   ],
   "source": [
    "# If it doesn't find a tzfile, but it finds a valid abbreviation for the local zone,\n",
    "# it returns tzlocal()\n",
    "with TZEnvContext('LMT4'):\n",
    "    print(gettz('LMT'))"
   ]
  },
  {
   "cell_type": "code",
   "execution_count": 18,
   "metadata": {
    "nbpresent": {
     "id": "9cdb3b68-bb7d-4ca5-96c1-cbfd571dcfd0"
    }
   },
   "outputs": [
    {
     "name": "stdout",
     "output_type": "stream",
     "text": [
      "tzfile('/usr/share/zoneinfo/Pacific/Kiritimati')\n"
     ]
    }
   ],
   "source": [
    "# Retrieve IANA zone:\n",
    "print(gettz('Pacific/Kiritimati'))"
   ]
  },
  {
   "cell_type": "code",
   "execution_count": 19,
   "metadata": {
    "nbpresent": {
     "id": "41a186e7-808d-499a-a6df-7163d743be8b"
    },
    "slideshow": {
     "slide_type": "fragment"
    }
   },
   "outputs": [
    {
     "name": "stdout",
     "output_type": "stream",
     "text": [
      "tzstr('AEST-10AEDT-11,M10.1.0/2,M4.1.0/3')\n"
     ]
    }
   ],
   "source": [
    "# Directly parse a TZ variable:\n",
    "print(gettz('AEST-10AEDT-11,M10.1.0/2,M4.1.0/3'))"
   ]
  },
  {
   "cell_type": "markdown",
   "metadata": {
    "slideshow": {
     "slide_type": "subslide"
    }
   },
   "source": [
    "`gettz` will return the same time zone object for the same input string, unless the cache is bypassed"
   ]
  },
  {
   "cell_type": "code",
   "execution_count": 20,
   "metadata": {},
   "outputs": [
    {
     "data": {
      "text/plain": [
       "True"
      ]
     },
     "execution_count": 20,
     "metadata": {},
     "output_type": "execute_result"
    }
   ],
   "source": [
    "gettz('America/New_York') is gettz('America/New_York')"
   ]
  },
  {
   "cell_type": "markdown",
   "metadata": {
    "slideshow": {
     "slide_type": "fragment"
    }
   },
   "source": [
    "In addition to the performance improvement, this is also because CPython relies on object equality for some of its datetime semantics:"
   ]
  },
  {
   "cell_type": "code",
   "execution_count": 21,
   "metadata": {},
   "outputs": [
    {
     "name": "stdout",
     "output_type": "stream",
     "text": [
      "x == y: False\n",
      "x == z: True\n",
      "y == z: True\n"
     ]
    }
   ],
   "source": [
    "LON = tz.gettz('Europe/London')\n",
    "\n",
    "# Construct a datetime\n",
    "x = datetime(2007, 3, 25, 1, 0, tzinfo=tz.gettz('Europe/London'))\n",
    "ts = x.timestamp()      # Get a timestamp representing the same datetime\n",
    "\n",
    "# Get the same datetime from the timestamp\n",
    "y = datetime.fromtimestamp(ts, tz.gettz('Europe/London'))\n",
    "\n",
    "# Get the same datetime from the timestamp with a fresh instance of LON\n",
    "z = datetime.fromtimestamp(ts, tz.gettz.nocache('Europe/London'))\n",
    "\n",
    "print(f'x == y: {x == y}')\n",
    "print(f'x == z: {x == z}')\n",
    "print(f'y == z: {y == z}')"
   ]
  },
  {
   "cell_type": "markdown",
   "metadata": {},
   "source": [
    "For a detailed write-up of this case, see my blog entry: https://blog.ganssle.io/articles/2018/02/a-curious-case-datetimes.html"
   ]
  },
  {
   "cell_type": "markdown",
   "metadata": {
    "nbpresent": {
     "id": "d9e2960a-8b9e-465f-b28c-b4e00f5aca1c"
    },
    "slideshow": {
     "slide_type": "skip"
    }
   },
   "source": [
    "### `dateutil.tz.tzstr`\n",
    "On POSIX-style systems, the `TZ` variable uses a specific format to specify two-transition time zones. The `tzstr` format takes strings in this format and converts them into Python `tzinfo` objects. Details on this format can be found [on gnu.org](https://www.gnu.org/software/libc/manual/html_node/TZ-Variable.html)."
   ]
  },
  {
   "cell_type": "code",
   "execution_count": 22,
   "metadata": {
    "nbpresent": {
     "id": "8869ad68-cd1d-45a4-9032-b588be18a764"
    },
    "scrolled": true,
    "slideshow": {
     "slide_type": "skip"
    }
   },
   "outputs": [
    {
     "name": "stdout",
     "output_type": "stream",
     "text": [
      "2016-07-17 22:15:00+1000:\n",
      "    tzname:  AEST;      UTC Offset:  10.00h;           DST:      0.0h\n",
      "2017-01-13 23:15:00+1100:\n",
      "    tzname:  AEDT;      UTC Offset:  11.00h;           DST:      1.0h\n"
     ]
    }
   ],
   "source": [
    "# POSIX string for Australian Eastern Time (valid >= 2008)\n",
    "TZSTR_AET = tzstr('AEST-10AEDT-11,M10.1.0/2,M4.1.0/3') # Note, AEST is UTC+10\n",
    "\n",
    "print_tzinfo(dt.astimezone(TZSTR_AET))\n",
    "print_tzinfo((dt + timedelta(180)).astimezone(TZSTR_AET))"
   ]
  },
  {
   "cell_type": "markdown",
   "metadata": {
    "nbpresent": {
     "id": "222c6f0d-6b27-4dc0-96b2-b421c7b8abce"
    },
    "slideshow": {
     "slide_type": "notes"
    }
   },
   "source": [
    "- `AEST` is 10 hours *ahead* of `UTC` - the POSIX standard is unintuitively backwards that way.\n",
    "- For `GMT` and `UTC` specifically, we break compatibility with the standard.\n",
    "- DST (AEDT) *starts* on the 10th month (M10), 1st (.1) Sunday (.0) at 2 AM (/2)\n",
    "- DST *ends* on the 4th month (M4), 1st (.1) Sunday (.0) at 3 AM (/3) "
   ]
  },
  {
   "cell_type": "markdown",
   "metadata": {
    "nbpresent": {
     "id": "4d17e5ba-137a-434d-a85e-0894002f5ebe"
    },
    "slideshow": {
     "slide_type": "skip"
    }
   },
   "source": [
    "### `dateutil.tz.tzrange`\n",
    "The `tzrange` class is intended to be a \"python native\" version of a `tzstr`. Rather than constructing it with a string, you construct it out of offsets and `relativedelta` objects."
   ]
  },
  {
   "cell_type": "code",
   "execution_count": 23,
   "metadata": {
    "slideshow": {
     "slide_type": "skip"
    }
   },
   "outputs": [],
   "source": [
    "from dateutil.relativedelta import SU"
   ]
  },
  {
   "cell_type": "code",
   "execution_count": 24,
   "metadata": {
    "nbpresent": {
     "id": "274136d2-ccd3-4e70-bbc6-8817958b9bca"
    },
    "slideshow": {
     "slide_type": "skip"
    }
   },
   "outputs": [
    {
     "data": {
      "text/plain": [
       "True"
      ]
     },
     "execution_count": 24,
     "metadata": {},
     "output_type": "execute_result"
    }
   ],
   "source": [
    "TZR_AET = tzrange('AEST', timedelta(hours=10),    # AEST-10\n",
    "                  'AEDT', timedelta(hours=11),    # AEDT-11\n",
    "                  start=relativedelta(month=10, day=1, hours=2, weekday=SU(+1)),\n",
    "                  end=relativedelta(month=4, day=1, hours=2, weekday=SU(+1)))\n",
    "\n",
    "TZR_AET == TZSTR_AET"
   ]
  },
  {
   "cell_type": "markdown",
   "metadata": {
    "nbpresent": {
     "id": "68876436-c064-4843-ac0f-f29433e31cb0"
    },
    "slideshow": {
     "slide_type": "skip"
    }
   },
   "source": [
    "- Before version 2.6.0, those timedeltas need to be offset seconds, offset from UTC\n",
    "- The time part is stripped off and the relativedelta is added to the date to get the transition time.\n",
    "- Note that the transition hour time is marking the boundaries of the *standard* zone, so DST starts at 2AM standard, but ends at 3AM daylight, e.g. 2AM standard. This is inconsistent with `TZ` but apparently consistent with Python documentation."
   ]
  },
  {
   "cell_type": "markdown",
   "metadata": {
    "slideshow": {
     "slide_type": "subslide"
    }
   },
   "source": [
    "## Ambiguous and imaginary times\n",
    "Ambiguous times are times where the same \"wall time\" occurs twice, such as during a DST to STD transition. `dateutil` provides the `tz.datetime_ambiguous()` method to determine if a datetime is ambiguous in a given zone.\n"
   ]
  },
  {
   "cell_type": "code",
   "execution_count": 25,
   "metadata": {},
   "outputs": [
    {
     "name": "stdout",
     "output_type": "stream",
     "text": [
      "2004-10-31 00:30:00-04:00 | EDT |  Unambiguous\n",
      "2004-10-31 01:30:00-04:00 | EDT |  Ambiguous\n",
      "2004-10-31 01:30:00-05:00 | EST |  Ambiguous\n",
      "2004-10-31 02:30:00-05:00 | EST |  Unambiguous\n"
     ]
    }
   ],
   "source": [
    "dt1 = datetime(2004, 10, 31, 4, 30, tzinfo=tzutc())\n",
    "for i in range(4):\n",
    "    dt = (dt1 + timedelta(hours=i)).astimezone(NYC)\n",
    "    print('{} | {} |  {}'.format(dt, dt.tzname(), \n",
    "                                   'Ambiguous' if tz.datetime_ambiguous(dt) else 'Unambiguous'))"
   ]
  },
  {
   "cell_type": "markdown",
   "metadata": {
    "slideshow": {
     "slide_type": "fragment"
    }
   },
   "source": [
    "Imaginary times are wall times that don't exist in a given time zone, such as during an STD to DST transition."
   ]
  },
  {
   "cell_type": "code",
   "execution_count": 26,
   "metadata": {},
   "outputs": [
    {
     "name": "stdout",
     "output_type": "stream",
     "text": [
      "2004-04-04 01:30:00-05:00 | EST \n",
      "2004-04-04 03:30:00-04:00 | EDT \n",
      "2004-04-04 04:30:00-04:00 | EDT \n"
     ]
    }
   ],
   "source": [
    "dt1 = datetime(2004, 4, 4, 6, 30, tzinfo=tzutc())\n",
    "for i in range(3):\n",
    "    dt = (dt1 + timedelta(hours=i)).astimezone(NYC)\n",
    "    print('{} | {} '.format(dt, dt.tzname()))"
   ]
  },
  {
   "cell_type": "code",
   "execution_count": 27,
   "metadata": {},
   "outputs": [],
   "source": [
    "assert not tz.datetime_exists(datetime(2004, 4, 4, 2, 30), tz=NYC)"
   ]
  },
  {
   "cell_type": "markdown",
   "metadata": {
    "slideshow": {
     "slide_type": "subslide"
    }
   },
   "source": [
    "### Handling imaginary datetimes"
   ]
  },
  {
   "cell_type": "markdown",
   "metadata": {},
   "source": [
    "Using `tz.resolve_imaginary` you can automatically shift imaginary datetimes forward"
   ]
  },
  {
   "cell_type": "code",
   "execution_count": 28,
   "metadata": {},
   "outputs": [
    {
     "data": {
      "text/plain": [
       "datetime.datetime(2004, 4, 4, 3, 30, tzinfo=tzfile('/usr/share/zoneinfo/America/New_York'))"
      ]
     },
     "execution_count": 28,
     "metadata": {},
     "output_type": "execute_result"
    }
   ],
   "source": [
    "tz.resolve_imaginary(datetime(2004, 4, 4, 2, 30, tzinfo=NYC))"
   ]
  },
  {
   "cell_type": "markdown",
   "metadata": {},
   "source": [
    "It has no effect on existing datetimes:"
   ]
  },
  {
   "cell_type": "code",
   "execution_count": 29,
   "metadata": {},
   "outputs": [
    {
     "data": {
      "text/plain": [
       "datetime.datetime(2004, 8, 12, 12, 0, tzinfo=tzfile('/usr/share/zoneinfo/America/New_York'))"
      ]
     },
     "execution_count": 29,
     "metadata": {},
     "output_type": "execute_result"
    }
   ],
   "source": [
    "tz.resolve_imaginary(datetime(2004, 8, 12, 12, tzinfo=NYC))"
   ]
  },
  {
   "cell_type": "markdown",
   "metadata": {},
   "source": [
    "It automatically detects the amount of the offset:"
   ]
  },
  {
   "cell_type": "code",
   "execution_count": 30,
   "metadata": {},
   "outputs": [
    {
     "data": {
      "text/plain": [
       "datetime.datetime(1995, 1, 1, 12, 0, tzinfo=tzfile('/usr/share/zoneinfo/Pacific/Kiritimati'))"
      ]
     },
     "execution_count": 30,
     "metadata": {},
     "output_type": "execute_result"
    }
   ],
   "source": [
    "tz.resolve_imaginary(datetime(1994, 12, 31, 12, tzinfo=tz.gettz('Pacific/Kiritimati')))"
   ]
  },
  {
   "cell_type": "markdown",
   "metadata": {
    "slideshow": {
     "slide_type": "skip"
    }
   },
   "source": [
    "## Constructing ambiguous dates\n",
    "Before the implementation of PEP-495 in Python 3.6, there is no ambiguous datetime support built-in to Python. `dateutil` implements PEP-495-style time zones in a backwards-compatible way. PEP-495 adds a `fold` attribute to `datetime` objects to specify whether they are the first (DST, `fold` = 0) or second (STD, `fold` = 1) occurence. To provide a backwards-compatible interface, `dateutil` provides a `tz.enfold` function that works in all versions:"
   ]
  },
  {
   "cell_type": "code",
   "execution_count": 31,
   "metadata": {
    "slideshow": {
     "slide_type": "skip"
    }
   },
   "outputs": [
    {
     "name": "stdout",
     "output_type": "stream",
     "text": [
      "2004-10-31 01:30:00-04:00\n"
     ]
    },
    {
     "data": {
      "text/plain": [
       "datetime.datetime(2004, 10, 31, 1, 30, tzinfo=tzfile('/usr/share/zoneinfo/America/New_York'))"
      ]
     },
     "execution_count": 31,
     "metadata": {},
     "output_type": "execute_result"
    }
   ],
   "source": [
    "dt = tz.enfold(datetime(2004, 10, 31, 1, 30, tzinfo=NYC), fold=0); print(dt)\n",
    "dt"
   ]
  },
  {
   "cell_type": "code",
   "execution_count": 32,
   "metadata": {
    "slideshow": {
     "slide_type": "skip"
    }
   },
   "outputs": [
    {
     "name": "stdout",
     "output_type": "stream",
     "text": [
      "2004-10-31 01:30:00-05:00\n"
     ]
    },
    {
     "data": {
      "text/plain": [
       "datetime.datetime(2004, 10, 31, 1, 30, fold=1, tzinfo=tzfile('/usr/share/zoneinfo/America/New_York'))"
      ]
     },
     "execution_count": 32,
     "metadata": {},
     "output_type": "execute_result"
    }
   ],
   "source": [
    "dt = tz.enfold(datetime(2004, 10, 31, 1, 30, tzinfo=NYC), fold=1); print(dt)\n",
    "dt    # Note: In < Python 3.6 this returns a _DatetimeWithFold compatibility object"
   ]
  },
  {
   "cell_type": "markdown",
   "metadata": {
    "slideshow": {
     "slide_type": "skip"
    }
   },
   "source": [
    "## General rules for working with time zones\n",
    "* If you're working with actual times along a timeline, convert to UTC as soon as possible.\n",
    "* If you're working with \"wall times\", have a strategy ready for how ambiguous times are resolved."
   ]
  },
  {
   "cell_type": "markdown",
   "metadata": {
    "nbpresent": {
     "id": "2c7a7f15-280a-4ca1-8752-5852f2883b0e"
    },
    "slideshow": {
     "slide_type": "slide"
    }
   },
   "source": [
    "# `dateutil.parser`\n",
    "\n",
    "The parser is used to take datetime strings of a valid but usually unknown format and convert them into `datetime` objects.\n"
   ]
  },
  {
   "cell_type": "code",
   "execution_count": 33,
   "metadata": {
    "nbpresent": {
     "id": "04d99eed-ab07-47dc-9744-bcb0f0c1cc79"
    }
   },
   "outputs": [
    {
     "data": {
      "text/plain": [
       "datetime.datetime(1942, 3, 8, 10, 13)"
      ]
     },
     "execution_count": 33,
     "metadata": {},
     "output_type": "execute_result"
    }
   ],
   "source": [
    "from dateutil.parser import parse, parser\n",
    "\n",
    "parser().parse('March 8, 1942 10:13')"
   ]
  },
  {
   "cell_type": "code",
   "execution_count": 34,
   "metadata": {
    "nbpresent": {
     "id": "10a7d89b-3ab4-4174-9469-9130a6633d13"
    }
   },
   "outputs": [
    {
     "data": {
      "text/plain": [
       "datetime.datetime(1991, 2, 3, 0, 0)"
      ]
     },
     "execution_count": 34,
     "metadata": {},
     "output_type": "execute_result"
    }
   ],
   "source": [
    "parse('1991-02-03')"
   ]
  },
  {
   "cell_type": "code",
   "execution_count": 35,
   "metadata": {
    "nbpresent": {
     "id": "0960c080-94ec-491c-9054-2ce4800da44e"
    }
   },
   "outputs": [
    {
     "data": {
      "text/plain": [
       "[datetime.datetime(2004, 1, 3, 0, 0),\n",
       " datetime.datetime(2004, 11, 1, 0, 0),\n",
       " datetime.datetime(2032, 4, 3, 0, 0)]"
      ]
     },
     "execution_count": 35,
     "metadata": {},
     "output_type": "execute_result"
    }
   ],
   "source": [
    "list(map(parse, ['01-03-04', '11-01-04', '32-04-03']))"
   ]
  },
  {
   "cell_type": "markdown",
   "metadata": {
    "nbpresent": {
     "id": "110c0454-5a9c-4754-a379-2f8bbf5387f0"
    },
    "slideshow": {
     "slide_type": "subslide"
    }
   },
   "source": [
    "## When to use the parser\n",
    "- When parsing dates of an unknown format\n",
    "- When picking out dates from a string:"
   ]
  },
  {
   "cell_type": "code",
   "execution_count": 36,
   "metadata": {
    "nbpresent": {
     "id": "da2c8567-4cc4-4e60-be05-9f015217bde4"
    }
   },
   "outputs": [
    {
     "data": {
      "text/plain": [
       "datetime.datetime(1932, 6, 28, 0, 0)"
      ]
     },
     "execution_count": 36,
     "metadata": {},
     "output_type": "execute_result"
    }
   ],
   "source": [
    "parse(\"Pat Morita's birthday is June 28, 1932\", fuzzy=True)"
   ]
  },
  {
   "cell_type": "markdown",
   "metadata": {
    "nbpresent": {
     "id": "f88a5291-5045-4a53-bc2d-cad368570417"
    }
   },
   "source": [
    "- When you need to retrieve the time zone information as well:"
   ]
  },
  {
   "cell_type": "code",
   "execution_count": 37,
   "metadata": {
    "nbpresent": {
     "id": "5f071bae-78eb-43a4-ae01-5d3e48c59ba9"
    }
   },
   "outputs": [
    {
     "data": {
      "text/plain": [
       "[datetime.datetime(2009, 9, 14, 2, 33, 44, tzinfo=tzlocal()),\n",
       " datetime.datetime(2009, 9, 14, 2, 33, 44, tzinfo=tzoffset('CST', 28800)),\n",
       " datetime.datetime(2009, 9, 14, 2, 33, 44, tzinfo=tzoffset(None, 14400)),\n",
       " datetime.datetime(2009, 9, 14, 2, 33, 44, tzinfo=tzoffset(None, -14400))]"
      ]
     },
     "execution_count": 37,
     "metadata": {},
     "output_type": "execute_result"
    }
   ],
   "source": [
    "dt_base = '2009-09-14 02:33:44'\n",
    "# This works for your local time zone or any fixed offset\n",
    "list(map(parse, (dt_base + x for x in ('EST', 'CST-8', 'UTC-4', '-0400'))))"
   ]
  },
  {
   "cell_type": "code",
   "execution_count": 38,
   "metadata": {
    "nbpresent": {
     "id": "a09f3100-3c5c-4e41-ab49-f204406d9727"
    }
   },
   "outputs": [
    {
     "data": {
      "text/plain": [
       "datetime.datetime(2002, 9, 14, 14, 33, 44, tzinfo=tzfile('/usr/share/zoneinfo/Asia/Shanghai'))"
      ]
     },
     "execution_count": 38,
     "metadata": {},
     "output_type": "execute_result"
    }
   ],
   "source": [
    "# You can also specify the time zone context for ambiguous zones\n",
    "IST = gettz('Asia/Kolkata'); CST = gettz('Asia/Shanghai')\n",
    "parse(\"2002-09-14 02:33:44 PM CST\", tzinfos={'CST': CST, 'IST': IST})"
   ]
  },
  {
   "cell_type": "markdown",
   "metadata": {
    "slideshow": {
     "slide_type": "subslide"
    }
   },
   "source": [
    "## `dateutil.parser.isoparse`\n",
    "As of version 2.7.0, `dateutil` introduced a dedicated ISO-8601 parser."
   ]
  },
  {
   "cell_type": "code",
   "execution_count": 39,
   "metadata": {},
   "outputs": [],
   "source": [
    "from dateutil.parser import isoparse"
   ]
  },
  {
   "cell_type": "code",
   "execution_count": 40,
   "metadata": {},
   "outputs": [
    {
     "data": {
      "text/plain": [
       "datetime.datetime(2018, 4, 3, 0, 0)"
      ]
     },
     "execution_count": 40,
     "metadata": {},
     "output_type": "execute_result"
    }
   ],
   "source": [
    "isoparse('2018-04-03')"
   ]
  },
  {
   "cell_type": "code",
   "execution_count": 41,
   "metadata": {},
   "outputs": [
    {
     "data": {
      "text/plain": [
       "datetime.datetime(2018, 4, 3, 14, 40)"
      ]
     },
     "execution_count": 41,
     "metadata": {},
     "output_type": "execute_result"
    }
   ],
   "source": [
    "isoparse('2018-04-03T14:40')"
   ]
  },
  {
   "cell_type": "code",
   "execution_count": 42,
   "metadata": {},
   "outputs": [
    {
     "data": {
      "text/plain": [
       "datetime.datetime(2018, 4, 3, 14, 40, tzinfo=tzoffset(None, -18000))"
      ]
     },
     "execution_count": 42,
     "metadata": {},
     "output_type": "execute_result"
    }
   ],
   "source": [
    "isoparse('2018-04-03T14:40-05:00')"
   ]
  },
  {
   "cell_type": "markdown",
   "metadata": {
    "slideshow": {
     "slide_type": "subslide"
    }
   },
   "source": [
    "## `isoparse` advantages"
   ]
  },
  {
   "cell_type": "markdown",
   "metadata": {},
   "source": [
    "### Faster"
   ]
  },
  {
   "cell_type": "code",
   "execution_count": 43,
   "metadata": {
    "slideshow": {
     "slide_type": "-"
    }
   },
   "outputs": [
    {
     "name": "stdout",
     "output_type": "stream",
     "text": [
      "175 µs ± 11.1 µs per loop (mean ± std. dev. of 7 runs, 1000 loops each)\n"
     ]
    }
   ],
   "source": [
    "%timeit parse('2018-04-03T14:40-05:00')"
   ]
  },
  {
   "cell_type": "code",
   "execution_count": 44,
   "metadata": {},
   "outputs": [
    {
     "name": "stdout",
     "output_type": "stream",
     "text": [
      "26 µs ± 1.92 µs per loop (mean ± std. dev. of 7 runs, 10000 loops each)\n"
     ]
    }
   ],
   "source": [
    "%timeit isoparse('2018-04-03T14:40-05:00')"
   ]
  },
  {
   "cell_type": "markdown",
   "metadata": {
    "slideshow": {
     "slide_type": "fragment"
    }
   },
   "source": [
    "### Stricter"
   ]
  },
  {
   "cell_type": "code",
   "execution_count": 45,
   "metadata": {},
   "outputs": [
    {
     "data": {
      "text/plain": [
       "datetime.datetime(2014, 4, 3, 14, 40, tzinfo=tzoffset(None, -18000))"
      ]
     },
     "execution_count": 45,
     "metadata": {},
     "output_type": "execute_result"
    }
   ],
   "source": [
    "parse('2014.04.03T14:40 GMT+05:00')"
   ]
  },
  {
   "cell_type": "code",
   "execution_count": 46,
   "metadata": {},
   "outputs": [
    {
     "name": "stdout",
     "output_type": "stream",
     "text": [
      "ValueError: invalid literal for int() with base 10: b'.04'\n"
     ]
    }
   ],
   "source": [
    "try:\n",
    "    isoparse('2014.04.03T14:40 GMT+05:00')\n",
    "except ValueError as e:\n",
    "    print(f'ValueError: {e}')"
   ]
  },
  {
   "cell_type": "markdown",
   "metadata": {
    "nbpresent": {
     "id": "002aa7af-e7f3-4a01-a554-99e1227d79f3"
    },
    "slideshow": {
     "slide_type": "subslide"
    }
   },
   "source": [
    "## When not to use the parser\n",
    "- When you know the format of the string: Use `strptime`\n",
    "\n",
    "- Don't use it to validate whether or not something is a datetime\n",
    "\n",
    "- When you know the format of the string to within a few possibilities, it's almost certainly faster and more accurate to guess-and-check."
   ]
  },
  {
   "cell_type": "markdown",
   "metadata": {
    "nbpresent": {
     "id": "3a4bb641-60ad-41aa-ba0b-168114f66123"
    },
    "slideshow": {
     "slide_type": "slide"
    }
   },
   "source": [
    "# `dateutil.relativedelta`\n",
    "\n",
    "`relativedelta` is intended to represent the relationship between two *calendar* dates, particularly those which may not have a fixed duration (e.g. \"1 month from now\").\n",
    "\n",
    "There are two ways to construct these:\n",
    "1. Directly from absolute and relative information\n",
    "2. From two datetimes, to represent the distance between them in relative terms."
   ]
  },
  {
   "cell_type": "markdown",
   "metadata": {
    "nbpresent": {
     "id": "a113b645-8c8d-4a1d-9c6f-eaf5287c3b60"
    },
    "slideshow": {
     "slide_type": "subslide"
    }
   },
   "source": [
    "## Absolute arguments\n",
    "The absolute arguments are roughly equivalent to the `.replace()` argument of a `datetime` - when a `relativedelta` with absolute arguments is added to or subtracted from a `datetime`, the corresponding components are replaced with the absolute information. Absolute arguments are applied *before* their corresponding relative components.\n",
    "\n",
    "The absolute arguments are (in order of application) are: `year`, `month`, `day`, `minute`, `second`, `microsecond`."
   ]
  },
  {
   "cell_type": "code",
   "execution_count": 47,
   "metadata": {
    "nbpresent": {
     "id": "c4d89d4b-4241-4506-84b0-aa70f30d974a"
    },
    "slideshow": {
     "slide_type": "-"
    }
   },
   "outputs": [
    {
     "data": {
      "text/plain": [
       "datetime.datetime(2015, 6, 17, 12, 0)"
      ]
     },
     "execution_count": 47,
     "metadata": {},
     "output_type": "execute_result"
    }
   ],
   "source": [
    "in_2015 = relativedelta(year=2015)\n",
    "\n",
    "# The same day in different years\n",
    "dt = datetime(2009, 6, 17, 12, 0)\n",
    "dt + in_2015"
   ]
  },
  {
   "cell_type": "code",
   "execution_count": 48,
   "metadata": {
    "nbpresent": {
     "id": "6ae7fdb2-21e4-4be3-afc5-005b6a0040e8"
    },
    "slideshow": {
     "slide_type": "-"
    }
   },
   "outputs": [
    {
     "data": {
      "text/plain": [
       "datetime.datetime(2015, 6, 17, 12, 0)"
      ]
     },
     "execution_count": 48,
     "metadata": {},
     "output_type": "execute_result"
    }
   ],
   "source": [
    "# Addition and subtraction do the same thing with absolute arguments\n",
    "dt - in_2015"
   ]
  },
  {
   "cell_type": "code",
   "execution_count": 49,
   "metadata": {
    "nbpresent": {
     "id": "c03609c2-22d7-453c-87df-4a4822599bfa"
    },
    "slideshow": {
     "slide_type": "fragment"
    }
   },
   "outputs": [
    {
     "data": {
      "text/plain": [
       "datetime.datetime(2018, 9, 1, 12, 15)"
      ]
     },
     "execution_count": 49,
     "metadata": {},
     "output_type": "execute_result"
    }
   ],
   "source": [
    "# On the same day, but at 12:15\n",
    "at_1215 = relativedelta(hour=12, minute=15, second=0,  microsecond=0)\n",
    "datetime(2018, 9, 1, 14, 0) + at_1215"
   ]
  },
  {
   "cell_type": "markdown",
   "metadata": {
    "nbpresent": {
     "id": "b95f0af4-9089-4a02-8173-fc2051d161f6"
    },
    "slideshow": {
     "slide_type": "subslide"
    }
   },
   "source": [
    "## Relative arguments\n",
    "Relative arguments represent a calendar offset from the given datetime - it applied *after* its absolute equivalents, from largest to smallest.\n",
    "\n",
    "The relative arguments are (in order of application): `years`, `months`, `days`, `minutes`, `seconds`, `microseconds`."
   ]
  },
  {
   "cell_type": "code",
   "execution_count": 50,
   "metadata": {
    "nbpresent": {
     "id": "cda597e6-aed9-478f-9bec-db309fc7cee3"
    },
    "slideshow": {
     "slide_type": "-"
    }
   },
   "outputs": [
    {
     "data": {
      "text/plain": [
       "datetime.datetime(2016, 2, 29, 0, 0)"
      ]
     },
     "execution_count": 50,
     "metadata": {},
     "output_type": "execute_result"
    }
   ],
   "source": [
    "dt = datetime(2016, 1, 29)\n",
    "dt + relativedelta(months=1)"
   ]
  },
  {
   "cell_type": "code",
   "execution_count": 51,
   "metadata": {
    "nbpresent": {
     "id": "0c8084cb-dc2d-445f-b87a-1ee52c5826cb"
    },
    "slideshow": {
     "slide_type": "-"
    }
   },
   "outputs": [
    {
     "data": {
      "text/plain": [
       "datetime.datetime(2017, 2, 28, 0, 0)"
      ]
     },
     "execution_count": 51,
     "metadata": {},
     "output_type": "execute_result"
    }
   ],
   "source": [
    "dt + relativedelta(years=1, months=1)"
   ]
  },
  {
   "cell_type": "code",
   "execution_count": 52,
   "metadata": {
    "nbpresent": {
     "id": "4d00ecb6-3fef-4f2d-be90-3eb3e072be9a"
    }
   },
   "outputs": [
    {
     "data": {
      "text/plain": [
       "datetime.datetime(2016, 1, 14, 0, 0)"
      ]
     },
     "execution_count": 52,
     "metadata": {},
     "output_type": "execute_result"
    }
   ],
   "source": [
    "dt - relativedelta(days=15)"
   ]
  },
  {
   "cell_type": "markdown",
   "metadata": {
    "nbpresent": {
     "id": "9aeba9ea-b9b8-4713-a361-8b8799bcd827"
    },
    "slideshow": {
     "slide_type": "subslide"
    }
   },
   "source": [
    "### Weekdays\n",
    "A special type of relative argument is `weekday`, which allows you to specify that you want a date that matches a specific day of the week."
   ]
  },
  {
   "cell_type": "code",
   "execution_count": 53,
   "metadata": {
    "nbpresent": {
     "id": "01c097a1-b040-463f-ad8a-e9ff3617606d"
    },
    "slideshow": {
     "slide_type": "-"
    }
   },
   "outputs": [
    {
     "name": "stdout",
     "output_type": "stream",
     "text": [
      "               start_date               |             +relativedelta             \n",
      "----------------------------------------|----------------------------------------\n",
      "               2015-03-01               |               2015-03-01               \n",
      "               2015-03-04               |               2015-03-08               \n",
      "               2015-03-07               |               2015-03-08               \n"
     ]
    }
   ],
   "source": [
    "next_sunday = relativedelta(weekday=SU(+1))\n",
    "\n",
    "dts = [datetime(2015, 3, 1) + (timedelta(days=3) * x) for x in range(3)]\n",
    "# Retrieve the Sunday on or following a given date\n",
    "print_dts([(dt, dt + next_sunday) for dt in dts])"
   ]
  },
  {
   "cell_type": "code",
   "execution_count": 54,
   "metadata": {
    "nbpresent": {
     "id": "405a573a-b42f-4099-a9b9-d4004ffc1e6d"
    }
   },
   "outputs": [
    {
     "name": "stdout",
     "output_type": "stream",
     "text": [
      "               start_date               |             +relativedelta             \n",
      "----------------------------------------|----------------------------------------\n",
      "               2015-03-15               |               2015-03-25               \n",
      "               2015-03-23               |               2015-04-01               \n"
     ]
    }
   ],
   "source": [
    "wednesday_after_next = relativedelta(weekday=WE(+2))\n",
    "\n",
    "dts = [datetime(2015, 3, 15) + timedelta(days=8) * x for x in range(2)]\n",
    "\n",
    "# Retrieve the second Wednesday after a given date\n",
    "print_dts([(dt, dt + wednesday_after_next) for dt in dts])"
   ]
  },
  {
   "cell_type": "markdown",
   "metadata": {
    "nbpresent": {
     "id": "3f4cd2d0-3b8e-40b3-ba6b-0853c8a8b46e"
    },
    "slideshow": {
     "slide_type": "subslide"
    }
   },
   "source": [
    "## Combinations\n",
    "To represent even fancier relative deltas, use both relative *and* absolute arguments."
   ]
  },
  {
   "cell_type": "code",
   "execution_count": 55,
   "metadata": {
    "nbpresent": {
     "id": "b26d27b2-1e68-4ba5-8d98-a8141448d9e5"
    },
    "slideshow": {
     "slide_type": "-"
    }
   },
   "outputs": [
    {
     "name": "stdout",
     "output_type": "stream",
     "text": [
      "               start_date               |             +relativedelta             \n",
      "----------------------------------------|----------------------------------------\n",
      "               2015-02-01               |               2015-03-01               \n",
      "               2015-02-28               |               2015-03-01               \n",
      "               2015-03-01               |               2015-04-01               \n"
     ]
    }
   ],
   "source": [
    "# Get the beginning of the next month\n",
    "next_month = relativedelta(months=1, day=1)\n",
    "dts = [datetime(2015, 2, 1),  datetime(2015, 2, 28), datetime(2015, 3, 1)]\n",
    "print_dts([(x, x + next_month) for x in dts])"
   ]
  },
  {
   "cell_type": "code",
   "execution_count": 56,
   "metadata": {
    "nbpresent": {
     "id": "2f1f753d-37c5-497a-ae5c-0c533ed54e91"
    },
    "slideshow": {
     "slide_type": "-"
    }
   },
   "outputs": [
    {
     "data": {
      "text/plain": [
       "[datetime.datetime(2014, 2, 17, 0, 0),\n",
       " datetime.datetime(2015, 2, 16, 0, 0),\n",
       " datetime.datetime(2016, 2, 15, 0, 0)]"
      ]
     },
     "execution_count": 56,
     "metadata": {},
     "output_type": "execute_result"
    }
   ],
   "source": [
    "# Martin Luther King Day is the 3rd Monday in February, so find the 3rd Monday on\n",
    "# or following the 1st day in February.\n",
    "mlk_day = relativedelta(month=2, day=1, weekday=MO(+3))\n",
    "[datetime(yr, 1, 1) + mlk_day for yr in range(2014, 2017)]"
   ]
  },
  {
   "cell_type": "markdown",
   "metadata": {
    "nbpresent": {
     "id": "ebdfc763-5196-4ba1-a059-73308dabc883"
    },
    "slideshow": {
     "slide_type": "skip"
    }
   },
   "source": [
    "## Calculated as a difference between two dates\n",
    "Passing two `datetime`s to the `relativedelta` constructor creates a `relativedelta` from the *calendar* difference between those two times."
   ]
  },
  {
   "cell_type": "code",
   "execution_count": 57,
   "metadata": {
    "nbpresent": {
     "id": "c39ef90c-3d79-496b-b3b2-8b10ffb3e70b"
    },
    "slideshow": {
     "slide_type": "skip"
    }
   },
   "outputs": [],
   "source": [
    "from helper_functions import print_dates"
   ]
  },
  {
   "cell_type": "code",
   "execution_count": 58,
   "metadata": {
    "nbpresent": {
     "id": "3e532738-4c90-408a-a176-26d4d83a144f"
    },
    "slideshow": {
     "slide_type": "skip"
    }
   },
   "outputs": [
    {
     "name": "stdout",
     "output_type": "stream",
     "text": [
      "       start_date        |       +timedelta        |     +relativedelta      \n",
      "-------------------------|-------------------------|-------------------------\n",
      "       2013-01-17        |       2014-04-02        |       2014-04-01        \n",
      "       2014-01-17        |       2015-04-02        |       2015-04-01        \n",
      "       2015-01-17        |       2016-04-01        |       2016-04-01        \n"
     ]
    }
   ],
   "source": [
    "dt1, dt2 = datetime(2012, 1, 17), datetime(2013, 4, 1)\n",
    "\n",
    "td = dt2 - dt1                           # datetime.timedelta(440)\n",
    "rd = relativedelta(dt2, dt1)             # relativedelta(years=+1, months=+2, days=+15)\n",
    "\n",
    "print_dates(((dt, dt + td, dt + rd) for dt in\n",
    "             (datetime(ii, 1, 17) for ii in range(2013, 2016))))"
   ]
  },
  {
   "cell_type": "code",
   "execution_count": 59,
   "metadata": {
    "nbpresent": {
     "id": "a0855065-02a0-4b73-8cad-1bfd9c3d3ac0"
    },
    "slideshow": {
     "slide_type": "skip"
    }
   },
   "outputs": [
    {
     "name": "stdout",
     "output_type": "stream",
     "text": [
      "       start_date        |       +timedelta        |     +relativedelta      \n",
      "-------------------------|-------------------------|-------------------------\n",
      "       2013-06-15        |       2013-08-14        |       2013-08-16        \n",
      "       2013-07-15        |       2013-09-13        |       2013-09-16        \n",
      "       2013-08-15        |       2013-10-14        |       2013-10-16        \n"
     ]
    }
   ],
   "source": [
    "dt1, dt2 = datetime(2013, 2, 15), datetime(2013, 4, 16)\n",
    "\n",
    "td = dt2 - dt1                           # datetime.timedelta(60)\n",
    "rd = relativedelta(dt2, dt1)             # relativedelta(months=+2, days=+1)\n",
    "\n",
    "print_dates(((dt, dt + td, dt + rd) for dt in\n",
    "             (datetime(2013, ii, 15) for ii in range(6, 9))))"
   ]
  },
  {
   "cell_type": "markdown",
   "metadata": {
    "nbpresent": {
     "id": "917e35fa-a529-4d20-91b8-683a9d7958ad"
    },
    "slideshow": {
     "slide_type": "slide"
    }
   },
   "source": [
    "# `dateutil.rrule`\n",
    "\n",
    "`rrule` is an implementation of *recurrence rules* as laid out in the iCalendar RFC (RFC 5545).\n",
    "\n",
    "Recurrence rules are rules for generating dates and times at some (potentially complex) interval.\n",
    "\n",
    "Some examples:"
   ]
  },
  {
   "cell_type": "code",
   "execution_count": 60,
   "metadata": {
    "nbpresent": {
     "id": "33fc71bd-0869-4ee4-ad97-77d17dfe9060"
    },
    "slideshow": {
     "slide_type": "fragment"
    }
   },
   "outputs": [],
   "source": [
    "from dateutil.rrule import rrule, rruleset, rrulestr\n",
    "from dateutil.rrule import YEARLY, MONTHLY, WEEKLY, DAILY, HOURLY, MINUTELY, SECONDLY"
   ]
  },
  {
   "cell_type": "code",
   "execution_count": 61,
   "metadata": {
    "nbpresent": {
     "id": "3ef7ac4e-85c1-42dc-a24c-c8bd919b02c3"
    }
   },
   "outputs": [
    {
     "data": {
      "text/plain": [
       "[datetime.datetime(1965, 6, 28, 0, 0), datetime.datetime(1971, 6, 28, 0, 0)]"
      ]
     },
     "execution_count": 61,
     "metadata": {},
     "output_type": "execute_result"
    }
   ],
   "source": [
    "# All of Pat Morita's birthdays that fell on a Monday\n",
    "rr = rrule(freq=YEARLY, bymonth=6, bymonthday=28, byweekday=MO,\n",
    "           dtstart=datetime(1932, 6, 28),\n",
    "           until=datetime(2005, 11, 24))\n",
    "  \n",
    "rr.between(datetime(1955, 11, 1),\n",
    "           datetime(1975, 4, 30))   # ...during the Vietnam War"
   ]
  },
  {
   "cell_type": "markdown",
   "metadata": {
    "nbpresent": {
     "id": "3f0d0a60-76bb-4da1-bd78-422dd3f03aa9"
    },
    "slideshow": {
     "slide_type": "subslide"
    }
   },
   "source": [
    "## RRULE components\n",
    "\n",
    "Fundamental elements of an `rrule` are:\n",
    "\n",
    "- **`dtstart`**: The start point of the recurrence (this is similar to a phase)\n",
    "- **`freq`**: The *units* of the fundamental frequency of the recurrence. It takes the values `YEARLY`, `MONTHLY`, `WEEKLY`, `DAILY`, `HOURLY`, `MINUTELY`, `SECONDLY`\n",
    "- **`interval`**: The fundamental frequency of the recurrence, in units of `freq`. If unspecified, this is 1.\n",
    "\n",
    "\n",
    "\n"
   ]
  },
  {
   "cell_type": "code",
   "execution_count": 62,
   "metadata": {
    "nbpresent": {
     "id": "bf5bb043-8457-4105-be28-e8fa2f391815"
    },
    "slideshow": {
     "slide_type": "skip"
    }
   },
   "outputs": [],
   "source": [
    "from itertools import zip_longest\n",
    "\n",
    "def print_rrs(rrs, names=None, fmt_str='%Y-%m-%d %H:%M'):\n",
    "    \n",
    "    n = len(rrs)\n",
    "    section_width = 80 // n\n",
    "    base_fmt_str = '|'.join(['{{:^{}}}'.format(section_width)] * n)\n",
    "    \n",
    "    if names is not None:\n",
    "        name_str = base_fmt_str.format(*names)\n",
    "        print(name_str)\n",
    "        print('-' * len(name_str))\n",
    "    \n",
    "    for rr_dates in zip_longest(*rrs, fillvalue=None):\n",
    "        strs = [dt.strftime(fmt_str) if dt else '-' for dt in rr_dates]\n",
    "        print(base_fmt_str.format(*strs))    \n",
    "    \n",
    "    "
   ]
  },
  {
   "cell_type": "code",
   "execution_count": 63,
   "metadata": {
    "nbpresent": {
     "id": "3a9a3ce1-90c6-40e2-ad2a-934079abea25"
    },
    "scrolled": true,
    "slideshow": {
     "slide_type": "fragment"
    }
   },
   "outputs": [
    {
     "name": "stdout",
     "output_type": "stream",
     "text": [
      "          Hourly          |         dtstart          |        interval=2        \n",
      "--------------------------------------------------------------------------------\n",
      "     2016-07-18 09:00     |     2016-07-18 10:00     |     2016-07-18 09:00     \n",
      "     2016-07-18 10:00     |     2016-07-18 11:00     |     2016-07-18 11:00     \n",
      "     2016-07-18 11:00     |     2016-07-18 12:00     |     2016-07-18 13:00     \n"
     ]
    }
   ],
   "source": [
    "hourly = rrule(freq=HOURLY, interval=1, dtstart=datetime(2016, 7, 18, 9),  count=3)\n",
    "interval_2 = hourly.replace(interval=2)\n",
    "dtstart_rr = hourly.replace(dtstart=datetime(2016, 7, 18, 10))\n",
    "\n",
    "print_rrs([hourly, dtstart_rr, interval_2], ['Hourly', 'dtstart', 'interval=2'])"
   ]
  },
  {
   "cell_type": "markdown",
   "metadata": {
    "nbpresent": {
     "id": "373921a8-9ede-4197-8cee-b82437f5aa64"
    },
    "slideshow": {
     "slide_type": "subslide"
    }
   },
   "source": [
    "### `byxxx` rules\n",
    "`byxxx` rules serve to modify the frequency of the recurrence in some way. The supported rules are `bymonth`, `bymonthday`, `byyearday`, `byweekno`, `byweekday`, `byhour`, `byminute` and `bysecond`, `bysetpos` and `byeaster`."
   ]
  },
  {
   "cell_type": "markdown",
   "metadata": {
    "nbpresent": {
     "id": "94aaefd8-aab9-4c42-acb2-941a64967264"
    },
    "slideshow": {
     "slide_type": "fragment"
    }
   },
   "source": [
    "- `byxxx` rules greater than or equal to `freq` are constraints and (generally) reduce the frequency of the recurrence: "
   ]
  },
  {
   "cell_type": "code",
   "execution_count": 64,
   "metadata": {
    "nbpresent": {
     "id": "2213bd0e-a129-43c6-9a49-7cad724ac2b4"
    }
   },
   "outputs": [
    {
     "data": {
      "text/plain": [
       "[datetime.datetime(2015, 11, 3, 12, 0),\n",
       " datetime.datetime(2015, 11, 10, 12, 0),\n",
       " datetime.datetime(2015, 11, 17, 12, 0),\n",
       " datetime.datetime(2015, 11, 24, 12, 0),\n",
       " datetime.datetime(2016, 11, 1, 12, 0)]"
      ]
     },
     "execution_count": 64,
     "metadata": {},
     "output_type": "execute_result"
    }
   ],
   "source": [
    "# Base is DAILY, but by restricted to Tuesdays in November\n",
    "list(rrule(DAILY, bymonth=11, byweekday=(TU, ),\n",
    "           dtstart=datetime(2015, 1, 1, 12), count=5))"
   ]
  },
  {
   "cell_type": "markdown",
   "metadata": {
    "nbpresent": {
     "id": "f7b34bd5-c053-4979-8158-2f50748f7675"
    },
    "slideshow": {
     "slide_type": "fragment"
    }
   },
   "source": [
    "- `byxxx` rules less than `freq` will generally *increase* the frequency of the recurrence:"
   ]
  },
  {
   "cell_type": "code",
   "execution_count": 65,
   "metadata": {
    "nbpresent": {
     "id": "a32bed8e-6037-4c04-bcda-421832d9dc56"
    }
   },
   "outputs": [
    {
     "data": {
      "text/plain": [
       "[datetime.datetime(2015, 1, 30, 12, 15),\n",
       " datetime.datetime(2015, 2, 1, 12, 15),\n",
       " datetime.datetime(2015, 2, 15, 12, 15),\n",
       " datetime.datetime(2015, 3, 1, 12, 15)]"
      ]
     },
     "execution_count": 65,
     "metadata": {},
     "output_type": "execute_result"
    }
   ],
   "source": [
    "list(rrule(MONTHLY, bymonthday=(1, 15, 30),\n",
    "           dtstart=datetime(2015, 1, 16, 12, 15), count=4))"
   ]
  },
  {
   "cell_type": "markdown",
   "metadata": {
    "nbpresent": {
     "id": "12acd164-229f-4d5a-b5ee-d7c2e3cde15f"
    },
    "slideshow": {
     "slide_type": "notes"
    }
   },
   "source": [
    "Take note of the fact that the \"30\" is *ignored* for February"
   ]
  },
  {
   "cell_type": "markdown",
   "metadata": {
    "nbpresent": {
     "id": "e48e5499-6521-4dda-9d21-d15ee6642fc0"
    },
    "slideshow": {
     "slide_type": "subslide"
    }
   },
   "source": [
    "## Limiting rules\n",
    "If otherwise unspecified, recurrences can be generated to infinity (or at least until Python can't represent the date anymore). The two ways to specify a termination point *as part of the rule* are with the mutually exclusive `count` and `until` arguments.\n",
    "\n",
    "* `count` terminates the rule after a specific number of instances have been generated"
   ]
  },
  {
   "cell_type": "code",
   "execution_count": 66,
   "metadata": {
    "nbpresent": {
     "id": "3cebb4b0-5d5f-42b0-97eb-21415802a73c"
    }
   },
   "outputs": [
    {
     "data": {
      "text/plain": [
       "[datetime.datetime(2025, 7, 4, 0, 0), datetime.datetime(2031, 7, 4, 0, 0)]"
      ]
     },
     "execution_count": 66,
     "metadata": {},
     "output_type": "execute_result"
    }
   ],
   "source": [
    "# The next 2 instances where the 4th of July falls on a Friday\n",
    "list(rrule(YEARLY, bymonth=7, bymonthday=4, byweekday=FR,\n",
    "           dtstart=datetime(2016, 7, 5), count=2))"
   ]
  },
  {
   "cell_type": "markdown",
   "metadata": {
    "nbpresent": {
     "id": "3708d043-1fa9-40dc-b5c2-d87028af4282"
    },
    "slideshow": {
     "slide_type": "-"
    }
   },
   "source": [
    "* `until` terminates the rule on a specific date:"
   ]
  },
  {
   "cell_type": "code",
   "execution_count": 67,
   "metadata": {
    "nbpresent": {
     "id": "da5dfe07-74dc-4d06-9294-8c48143fac79"
    }
   },
   "outputs": [
    {
     "data": {
      "text/plain": [
       "[datetime.datetime(2017, 1, 13, 12, 0), datetime.datetime(2017, 10, 13, 12, 0)]"
      ]
     },
     "execution_count": 67,
     "metadata": {},
     "output_type": "execute_result"
    }
   ],
   "source": [
    "# The Friday the 13ths before January 1st, 2018\n",
    "list(rrule(MONTHLY, bymonthday=13, byweekday=FR,\n",
    "           dtstart=datetime(2016, 7, 17, 12), until=datetime(2018, 1, 1)))"
   ]
  },
  {
   "cell_type": "markdown",
   "metadata": {
    "nbpresent": {
     "id": "2fc41622-b6c0-49cf-806c-d062ab656fb9"
    },
    "slideshow": {
     "slide_type": "notes"
    }
   },
   "source": [
    "Make note of the fact that the unlimited nature of recurrence rules makes it clear that they are lazily constructed."
   ]
  },
  {
   "cell_type": "markdown",
   "metadata": {
    "nbpresent": {
     "id": "c6900de4-08a9-46b1-acc4-8fe534c613f9"
    },
    "slideshow": {
     "slide_type": "subslide"
    }
   },
   "source": [
    "### Using rrules\n",
    "It is also possible to retrieve specific subsets of the recurrence, e.g. the first recurence `after` a given date:"
   ]
  },
  {
   "cell_type": "code",
   "execution_count": 68,
   "metadata": {
    "nbpresent": {
     "id": "dc279304-7d4d-4030-9fb4-ba45a5937d35"
    }
   },
   "outputs": [
    {
     "data": {
      "text/plain": [
       "datetime.datetime(2018, 5, 30, 9, 0)"
      ]
     },
     "execution_count": 68,
     "metadata": {},
     "output_type": "execute_result"
    }
   ],
   "source": [
    "rr = rrule(DAILY, byhour=(9), byweekday=range(0, 5), dtstart=datetime(2016, 7, 1))\n",
    "\n",
    "rr.after(datetime.now())      # The beginning of the next weekday"
   ]
  },
  {
   "cell_type": "markdown",
   "metadata": {
    "nbpresent": {
     "id": "05aa375c-84bd-4032-989d-c3dbf618ff9c"
    },
    "slideshow": {
     "slide_type": "fragment"
    }
   },
   "source": [
    "You can retrieve the most recent recurrence *before* a given date:"
   ]
  },
  {
   "cell_type": "code",
   "execution_count": 69,
   "metadata": {
    "nbpresent": {
     "id": "64d92b3d-127c-4ced-964c-f86a93db8487"
    }
   },
   "outputs": [
    {
     "data": {
      "text/plain": [
       "datetime.datetime(2017, 3, 13, 9, 0)"
      ]
     },
     "execution_count": 69,
     "metadata": {},
     "output_type": "execute_result"
    }
   ],
   "source": [
    "rr.before(datetime(2017, 3, 14))   # Apparently this is a Saturday"
   ]
  },
  {
   "cell_type": "markdown",
   "metadata": {
    "collapsed": true,
    "nbpresent": {
     "id": "26b2096e-cf66-4f15-85a7-123f6faebe71"
    },
    "slideshow": {
     "slide_type": "fragment"
    }
   },
   "source": [
    "You can also get all the recurrences *between* two dates:"
   ]
  },
  {
   "cell_type": "code",
   "execution_count": 70,
   "metadata": {
    "nbpresent": {
     "id": "38713a58-b89e-44f7-9317-82c232b11bb6"
    }
   },
   "outputs": [
    {
     "data": {
      "text/plain": [
       "[datetime.datetime(1995, 4, 16, 0, 0),\n",
       " datetime.datetime(1996, 4, 7, 0, 0),\n",
       " datetime.datetime(1997, 3, 30, 0, 0),\n",
       " datetime.datetime(1998, 4, 12, 0, 0),\n",
       " datetime.datetime(1999, 4, 4, 0, 0)]"
      ]
     },
     "execution_count": 70,
     "metadata": {},
     "output_type": "execute_result"
    }
   ],
   "source": [
    "# byeaster is a non-standard extension in dateutil that calculates a day\n",
    "# offset from easter. This rule generates all the easters between 1995 and 2000.\n",
    "rr = rrule(YEARLY, byeaster=0, dtstart=datetime(1990, 1, 1))\n",
    "\n",
    "rr.between(datetime(1995, 1, 1), datetime(2000, 1, 1))"
   ]
  },
  {
   "cell_type": "markdown",
   "metadata": {
    "nbpresent": {
     "id": "1105ad25-d074-49fe-9d11-d642cfdf8397"
    },
    "slideshow": {
     "slide_type": "subslide"
    }
   },
   "source": [
    "### ``rrulestr``\n",
    "\n",
    "The iCalendar spec originally refers to a specific string format for specifying recurrence rules.\n",
    "\n",
    "`rrule`s can also be generated from these string using the `rrulestr` class:"
   ]
  },
  {
   "cell_type": "code",
   "execution_count": 79,
   "metadata": {
    "nbpresent": {
     "id": "dc99138a-c3e9-4033-a3dd-76927ba38ce8"
    },
    "slideshow": {
     "slide_type": "-"
    }
   },
   "outputs": [
    {
     "data": {
      "text/plain": [
       "[datetime.datetime(2016, 4, 3, 2, 0),\n",
       " datetime.datetime(2016, 10, 30, 2, 0),\n",
       " datetime.datetime(2017, 4, 2, 2, 0),\n",
       " datetime.datetime(2017, 10, 29, 2, 0)]"
      ]
     },
     "execution_count": 79,
     "metadata": {},
     "output_type": "execute_result"
    }
   ],
   "source": [
    "# DST start and stop transition rules for Pacific Time\n",
    "dst_start = rrulestr('DTSTART:19671029T020000;\\n'\n",
    "                     'FREQ=YEARLY;BYDAY=1SU;BYMONTH=4')\n",
    "dst_end = rrulestr('DTSTART:19671029T020000;\\n'\n",
    "                   'FREQ=YEARLY;BYDAY=-1SU;BYMONTH=10')\n",
    "rrset = rruleset()\n",
    "rrset.rrule(dst_start)\n",
    "rrset.rrule(dst_end)\n",
    "\n",
    "rrset.between(datetime(2016, 1, 1), datetime(2018, 1, 1))"
   ]
  },
  {
   "cell_type": "markdown",
   "metadata": {
    "nbpresent": {
     "id": "4b2cf8bc-c232-4c37-8e7d-b46b84c21297"
    },
    "slideshow": {
     "slide_type": "subslide"
    }
   },
   "source": [
    "### `str(rrule)`\n",
    "\n",
    "You can generate `RRULE` strings from `rrule` objects as well:"
   ]
  },
  {
   "cell_type": "code",
   "execution_count": 80,
   "metadata": {
    "nbpresent": {
     "id": "35a9f91c-66e5-4e27-8aae-c44663173aba"
    },
    "slideshow": {
     "slide_type": "-"
    }
   },
   "outputs": [
    {
     "data": {
      "text/plain": [
       "'DTSTART:20140913T000000\\nRRULE:FREQ=YEARLY;BYYEARDAY=180;BYHOUR=1,4,12'"
      ]
     },
     "execution_count": 80,
     "metadata": {},
     "output_type": "execute_result"
    }
   ],
   "source": [
    "# This string should be compatible with other applications using the iCalendar spec\n",
    "str(rrule(YEARLY, byyearday=180, byhour=(1, 4, 12), dtstart=datetime(2014, 9, 13)))"
   ]
  },
  {
   "cell_type": "code",
   "execution_count": 81,
   "metadata": {
    "nbpresent": {
     "id": "88f67f91-2c96-4774-9105-99b926d8eff6"
    },
    "slideshow": {
     "slide_type": "-"
    }
   },
   "outputs": [
    {
     "data": {
      "text/plain": [
       "'DTSTART:19900101T000000\\nRRULE:FREQ=YEARLY;COUNT=14;BYEASTER=0'"
      ]
     },
     "execution_count": 81,
     "metadata": {},
     "output_type": "execute_result"
    }
   ],
   "source": [
    "# Note that the BYEASTER directive is the only RFC-incompatible output\n",
    "str(rrule(YEARLY, byeaster=0, dtstart=datetime(1990, 1, 1), count=14))"
   ]
  },
  {
   "cell_type": "markdown",
   "metadata": {
    "nbpresent": {
     "id": "a611d48a-6bcb-4274-bae3-6d50512fdf09"
    },
    "slideshow": {
     "slide_type": "subslide"
    }
   },
   "source": [
    "## rruleset\n",
    "Some recurrences cannot be expressed in a single rrule. `rruleset` allows you to combine `rrule`s and `datetime`s to generate an arbitrary recurrence schedule."
   ]
  },
  {
   "cell_type": "markdown",
   "metadata": {},
   "source": [
    "`rruleset` interface:\n",
    "\n",
    "- `rruleset.rrule()`: Add a recurrence rule to the set\n",
    "- `rruleset.exrule()`: *Subtract* a recurrence rule from the set\n",
    "- `rruleset.rdate()`: Add a specific datetime to the set\n",
    "- `rruleset.exdate()`: *Subtract* a specific datetime from the set"
   ]
  },
  {
   "cell_type": "markdown",
   "metadata": {
    "slideshow": {
     "slide_type": "subslide"
    }
   },
   "source": [
    "## Bus schedule"
   ]
  },
  {
   "cell_type": "code",
   "execution_count": 71,
   "metadata": {
    "nbpresent": {
     "id": "c851bd48-df5a-4be0-b178-67a8404cbc62"
    }
   },
   "outputs": [],
   "source": [
    "dtstart = datetime(2016, 11, 1, 0, 0)    # The base date\n",
    "WEEKDAYS = (MO, TU, WE, TH, FR);    WEEKENDS = (SA, SU)\n",
    "bus_schedule = rruleset()"
   ]
  },
  {
   "cell_type": "code",
   "execution_count": 72,
   "metadata": {
    "nbpresent": {
     "id": "60323647-c87d-41cc-b73c-36e97b2907bd"
    },
    "slideshow": {
     "slide_type": "fragment"
    }
   },
   "outputs": [],
   "source": [
    "# During the week, it comes every hour on the 37 from 6:37AM to 10:37PM...\n",
    "weekday_schedule = rrule(DAILY, byweekday=WEEKDAYS,\n",
    "                         byhour=range(6, 22), byminute=37, dtstart=dtstart)\n",
    "bus_schedule.rrule(weekday_schedule)       # Add an rrule to the rule set"
   ]
  },
  {
   "cell_type": "code",
   "execution_count": 73,
   "metadata": {
    "nbpresent": {
     "id": "dc9b5653-368a-44d0-b35d-748971617072"
    },
    "slideshow": {
     "slide_type": "-"
    }
   },
   "outputs": [],
   "source": [
    "# ..except after 6, when it comes every other hour - so exclude 7:37PM and 9:37PM!\n",
    "weeknight_schedule = weekday_schedule.replace(byhour=(19, 21))\n",
    "bus_schedule.exrule(weeknight_schedule)"
   ]
  },
  {
   "cell_type": "code",
   "execution_count": 74,
   "metadata": {
    "nbpresent": {
     "id": "34cc706b-ff2f-45b8-ba7b-59b75135c02e"
    },
    "slideshow": {
     "slide_type": "fragment"
    }
   },
   "outputs": [],
   "source": [
    "# During the weekend, it comes every hour on the :07, from 8AM to 7PM\n",
    "weekend_schedule = rrule(DAILY, byweekday=WEEKENDS,\n",
    "                         byhour=range(8, 20), byminute=7, dtstart=dtstart)\n",
    "bus_schedule.rrule(weekend_schedule)"
   ]
  },
  {
   "cell_type": "markdown",
   "metadata": {
    "nbpresent": {
     "id": "29a0fbc7-b7f2-4421-982c-e7a07f1bde16"
    },
    "slideshow": {
     "slide_type": "subslide"
    }
   },
   "source": [
    "### `rdate` and `exdate`"
   ]
  },
  {
   "cell_type": "code",
   "execution_count": 75,
   "metadata": {
    "nbpresent": {
     "id": "59e970ae-5206-4784-a215-497dd643e915"
    },
    "slideshow": {
     "slide_type": "-"
    }
   },
   "outputs": [],
   "source": [
    "# But on November 8th, 2016, politicians have arranged for busses to undergo\n",
    "# \"service\", so the normal bus schedule is canceled that day\n",
    "exdates = bus_schedule.between(datetime(2016, 11, 8, 0), datetime(2016, 11, 9))\n",
    "for exdate in exdates:\n",
    "    bus_schedule.exdate(exdate)"
   ]
  },
  {
   "cell_type": "code",
   "execution_count": 76,
   "metadata": {
    "nbpresent": {
     "id": "10eba1b2-e23e-4a6d-b65b-501be28a364b"
    },
    "slideshow": {
     "slide_type": "fragment"
    }
   },
   "outputs": [],
   "source": [
    "# And in its place they've added one bus at 4:32 AM\n",
    "bus_schedule.rdate(datetime(2016, 11, 8, 4, 37))\n",
    "\n",
    "# And one at 7:49 PM\n",
    "bus_schedule.rdate(datetime(2016, 11, 8, 19, 49))"
   ]
  },
  {
   "cell_type": "markdown",
   "metadata": {
    "nbpresent": {
     "id": "b4670e0f-49da-48a8-bc82-640a954d2f54"
    },
    "slideshow": {
     "slide_type": "subslide"
    }
   },
   "source": [
    "### And display the schedule:"
   ]
  },
  {
   "cell_type": "code",
   "execution_count": 77,
   "metadata": {
    "nbpresent": {
     "id": "7ffe9fb8-6df8-4f5b-b291-a217ccefd9e6"
    },
    "slideshow": {
     "slide_type": "skip"
    }
   },
   "outputs": [],
   "source": [
    "from IPython.display import display, HTML\n",
    "from itertools import groupby\n",
    "from operator import itemgetter\n",
    "import pandas as pd\n",
    "\n",
    "style_sheet = \"\"\"\n",
    "<style type=\"type/css\">\n",
    "\n",
    ".dataframe th {\n",
    "    font-size: 18px;\n",
    "    background #cacaca;\n",
    "}\n",
    "\n",
    ".reveal .dataframe th {\n",
    "    font-size: 18px;\n",
    "    background #cacaca;\n",
    "}\n",
    "\n",
    ".dataframe th {\n",
    "    font-size: 16px;\n",
    "}\n",
    "\n",
    ".reveal .dataframe th {\n",
    "    font-size: 16px;\n",
    "}\n",
    "\n",
    "</style>\n",
    "\"\"\"\n",
    "\n",
    "def print_bus_schedule(bus_list):\n",
    "    gby = groupby(bus_list, key=datetime.date)\n",
    "    l = [(g, list(map(datetime.time, v))) for g, v in gby]\n",
    "\n",
    "    labels, vals = zip(*l)\n",
    "    labels = [(dt.strftime('%Y-%m-%d'), dt.strftime('%a')) for dt in labels]\n",
    "    df = pd.DataFrame(list(vals), index=pd.MultiIndex.from_tuples(labels)).T\n",
    "    html_out = (style_sheet)\n",
    "    x = df.to_html(index=False)\n",
    "    return html_out + x\n"
   ]
  },
  {
   "cell_type": "code",
   "execution_count": 78,
   "metadata": {
    "nbpresent": {
     "id": "571fc88a-3513-4b40-8787-16ab28050fbf"
    }
   },
   "outputs": [
    {
     "data": {
      "text/html": [
       "\n",
       "<style type=\"type/css\">\n",
       "\n",
       ".dataframe th {\n",
       "    font-size: 18px;\n",
       "    background #cacaca;\n",
       "}\n",
       "\n",
       ".reveal .dataframe th {\n",
       "    font-size: 18px;\n",
       "    background #cacaca;\n",
       "}\n",
       "\n",
       ".dataframe th {\n",
       "    font-size: 16px;\n",
       "}\n",
       "\n",
       ".reveal .dataframe th {\n",
       "    font-size: 16px;\n",
       "}\n",
       "\n",
       "</style>\n",
       "<table border=\"1\" class=\"dataframe\">\n",
       "  <thead>\n",
       "    <tr>\n",
       "      <th>2016-11-07</th>\n",
       "      <th>2016-11-08</th>\n",
       "      <th>2016-11-09</th>\n",
       "      <th>2016-11-10</th>\n",
       "      <th>2016-11-11</th>\n",
       "      <th>2016-11-12</th>\n",
       "      <th>2016-11-13</th>\n",
       "    </tr>\n",
       "    <tr>\n",
       "      <th>Mon</th>\n",
       "      <th>Tue</th>\n",
       "      <th>Wed</th>\n",
       "      <th>Thu</th>\n",
       "      <th>Fri</th>\n",
       "      <th>Sat</th>\n",
       "      <th>Sun</th>\n",
       "    </tr>\n",
       "  </thead>\n",
       "  <tbody>\n",
       "    <tr>\n",
       "      <td>06:37:00</td>\n",
       "      <td>04:37:00</td>\n",
       "      <td>06:37:00</td>\n",
       "      <td>06:37:00</td>\n",
       "      <td>06:37:00</td>\n",
       "      <td>08:07:00</td>\n",
       "      <td>08:07:00</td>\n",
       "    </tr>\n",
       "    <tr>\n",
       "      <td>07:37:00</td>\n",
       "      <td>19:49:00</td>\n",
       "      <td>07:37:00</td>\n",
       "      <td>07:37:00</td>\n",
       "      <td>07:37:00</td>\n",
       "      <td>09:07:00</td>\n",
       "      <td>09:07:00</td>\n",
       "    </tr>\n",
       "    <tr>\n",
       "      <td>08:37:00</td>\n",
       "      <td>None</td>\n",
       "      <td>08:37:00</td>\n",
       "      <td>08:37:00</td>\n",
       "      <td>08:37:00</td>\n",
       "      <td>10:07:00</td>\n",
       "      <td>10:07:00</td>\n",
       "    </tr>\n",
       "    <tr>\n",
       "      <td>09:37:00</td>\n",
       "      <td>None</td>\n",
       "      <td>09:37:00</td>\n",
       "      <td>09:37:00</td>\n",
       "      <td>09:37:00</td>\n",
       "      <td>11:07:00</td>\n",
       "      <td>11:07:00</td>\n",
       "    </tr>\n",
       "    <tr>\n",
       "      <td>10:37:00</td>\n",
       "      <td>None</td>\n",
       "      <td>10:37:00</td>\n",
       "      <td>10:37:00</td>\n",
       "      <td>10:37:00</td>\n",
       "      <td>12:07:00</td>\n",
       "      <td>12:07:00</td>\n",
       "    </tr>\n",
       "    <tr>\n",
       "      <td>11:37:00</td>\n",
       "      <td>None</td>\n",
       "      <td>11:37:00</td>\n",
       "      <td>11:37:00</td>\n",
       "      <td>11:37:00</td>\n",
       "      <td>13:07:00</td>\n",
       "      <td>13:07:00</td>\n",
       "    </tr>\n",
       "    <tr>\n",
       "      <td>12:37:00</td>\n",
       "      <td>None</td>\n",
       "      <td>12:37:00</td>\n",
       "      <td>12:37:00</td>\n",
       "      <td>12:37:00</td>\n",
       "      <td>14:07:00</td>\n",
       "      <td>14:07:00</td>\n",
       "    </tr>\n",
       "    <tr>\n",
       "      <td>13:37:00</td>\n",
       "      <td>None</td>\n",
       "      <td>13:37:00</td>\n",
       "      <td>13:37:00</td>\n",
       "      <td>13:37:00</td>\n",
       "      <td>15:07:00</td>\n",
       "      <td>15:07:00</td>\n",
       "    </tr>\n",
       "    <tr>\n",
       "      <td>14:37:00</td>\n",
       "      <td>None</td>\n",
       "      <td>14:37:00</td>\n",
       "      <td>14:37:00</td>\n",
       "      <td>14:37:00</td>\n",
       "      <td>16:07:00</td>\n",
       "      <td>16:07:00</td>\n",
       "    </tr>\n",
       "    <tr>\n",
       "      <td>15:37:00</td>\n",
       "      <td>None</td>\n",
       "      <td>15:37:00</td>\n",
       "      <td>15:37:00</td>\n",
       "      <td>15:37:00</td>\n",
       "      <td>17:07:00</td>\n",
       "      <td>17:07:00</td>\n",
       "    </tr>\n",
       "    <tr>\n",
       "      <td>16:37:00</td>\n",
       "      <td>None</td>\n",
       "      <td>16:37:00</td>\n",
       "      <td>16:37:00</td>\n",
       "      <td>16:37:00</td>\n",
       "      <td>18:07:00</td>\n",
       "      <td>18:07:00</td>\n",
       "    </tr>\n",
       "    <tr>\n",
       "      <td>17:37:00</td>\n",
       "      <td>None</td>\n",
       "      <td>17:37:00</td>\n",
       "      <td>17:37:00</td>\n",
       "      <td>17:37:00</td>\n",
       "      <td>19:07:00</td>\n",
       "      <td>19:07:00</td>\n",
       "    </tr>\n",
       "    <tr>\n",
       "      <td>18:37:00</td>\n",
       "      <td>None</td>\n",
       "      <td>18:37:00</td>\n",
       "      <td>18:37:00</td>\n",
       "      <td>18:37:00</td>\n",
       "      <td>None</td>\n",
       "      <td>None</td>\n",
       "    </tr>\n",
       "    <tr>\n",
       "      <td>20:37:00</td>\n",
       "      <td>None</td>\n",
       "      <td>20:37:00</td>\n",
       "      <td>20:37:00</td>\n",
       "      <td>20:37:00</td>\n",
       "      <td>None</td>\n",
       "      <td>None</td>\n",
       "    </tr>\n",
       "  </tbody>\n",
       "</table>"
      ],
      "text/plain": [
       "<IPython.core.display.HTML object>"
      ]
     },
     "execution_count": 78,
     "metadata": {},
     "output_type": "execute_result"
    }
   ],
   "source": [
    "bus_list = bus_schedule.between(datetime(2016, 11, 7), datetime(2016, 11, 14))\n",
    "o = print_bus_schedule(bus_list)\n",
    "HTML(o)"
   ]
  },
  {
   "cell_type": "code",
   "execution_count": 82,
   "metadata": {
    "nbpresent": {
     "id": "c8a1f831-43bd-4a80-826e-b6eab95af6d0"
    },
    "slideshow": {
     "slide_type": "skip"
    }
   },
   "outputs": [],
   "source": [
    "import qrcode\n",
    "qr = qrcode.QRCode()\n",
    "qr.add_data(\n",
    "\"\"\"Paul Ganssle\n",
    "https://github.com/pganssle\n",
    "\n",
    "pgp key:\n",
    "6B49 ACBA DCF6 BD1C A206\n",
    "67AB CD54 FCE3 D964 BEFB\n",
    "\"\"\")\n",
    "qr.make()\n",
    "qr.make_image().save('images/key_qr.png')"
   ]
  },
  {
   "cell_type": "markdown",
   "metadata": {
    "nbpresent": {
     "id": "f1dc73f9-8745-40ed-b00d-07a740b457f5"
    },
    "slideshow": {
     "slide_type": "slide"
    }
   },
   "source": [
    "## More information\n",
    "\n",
    "- Github: https://github.com/dateutil/dateutil\n",
    "- Check [open issues with the \"help wanted\" label](https://github.com/dateutil/dateutil/issues?q=is%3Aissue+is%3Aopen+label%3A%22help+wanted%22)\n",
    "- Documentation: https://dateutil.readthedocs.io/en/stable/\n",
    "\n"
   ]
  },
  {
   "cell_type": "raw",
   "metadata": {},
   "source": [
    "<div style=\"display:flex;\n",
    "            flex-direction: column;\n",
    "            justify-content: space-between;\n",
    "            margin-top: 2.5em;\n",
    "            padding-left: 20%;\n",
    "            padding-right: 20%;\">\n",
    "    <div class=\"pganssle-info-header\"\n",
    "         style=\"display:flex;\n",
    "                justify-content: space-between;\n",
    "                background: lightgray\">\n",
    "        <div>\n",
    "            <b>Paul Ganssle</b>\n",
    "        </div>\n",
    "        <div style=\"text-align:  right;\">\n",
    "            <a href=\"https://ganssle.io\">https://ganssle.io</a><br>\n",
    "            Blog: <a href=\"https://blog.ganssle.io\">https://blog.ganssle.io</a>\n",
    "        </div>\n",
    "    </div>    \n",
    "    <div class=\"pganssle-info-body\"\n",
    "         style=\"display:flex;\n",
    "                justify-content: space-between\">\n",
    "        <div style=\"font-family: monospace;\n",
    "                    display:flex;\n",
    "                    align-items: center;\">pgp key<br>\n",
    "            6B49 ACBA DCF6 BD1C A206<br>\n",
    "            67AB CD54 FCE3 D964 BEFB\n",
    "        </div>\n",
    "        <div>\n",
    "            <img src=\"images/key_qr.png\"\n",
    "                 width=\"300px\"\n",
    "                 style=\"border: 0px; box-shadow: none\">\n",
    "        </div>\n",
    "    </div>\n",
    "</div>"
   ]
  }
 ],
 "metadata": {
  "celltoolbar": "Slideshow",
  "kernelspec": {
   "display_name": "Python 3",
   "language": "python",
   "name": "python3"
  },
  "language_info": {
   "codemirror_mode": {
    "name": "ipython",
    "version": 3
   },
   "file_extension": ".py",
   "mimetype": "text/x-python",
   "name": "python",
   "nbconvert_exporter": "python",
   "pygments_lexer": "ipython3",
   "version": "3.6.5"
  },
  "nbpresent": {
   "slides": {
    "08cbf3b7-09bf-4e2d-a7bb-669bef598000": {
     "id": "08cbf3b7-09bf-4e2d-a7bb-669bef598000",
     "prev": "e66ce0b2-0da8-4e70-b485-bc633ae610b1",
     "regions": {
      "4886cbf0-e3dd-4e82-a981-fa6d3b8e8c7e": {
       "attrs": {
        "height": 0.4,
        "width": 0.8,
        "x": 0.1,
        "y": 0.5
       },
       "content": {
        "cell": "04d99eed-ab07-47dc-9744-bcb0f0c1cc79",
        "part": "whole"
       },
       "id": "4886cbf0-e3dd-4e82-a981-fa6d3b8e8c7e"
      },
      "4fd83263-2c77-4142-b443-d67c15873a27": {
       "attrs": {
        "height": 0.4,
        "width": 0.8,
        "x": 0.1,
        "y": 0.5
       },
       "content": {
        "cell": "10a7d89b-3ab4-4174-9469-9130a6633d13",
        "part": "whole"
       },
       "id": "4fd83263-2c77-4142-b443-d67c15873a27"
      },
      "f046a812-85a3-4f5d-a06e-0a2f7113dfb6": {
       "attrs": {
        "height": 0.4,
        "width": 0.8,
        "x": 0.1,
        "y": 0.5
       },
       "content": {
        "cell": "0960c080-94ec-491c-9054-2ce4800da44e",
        "part": "whole"
       },
       "id": "f046a812-85a3-4f5d-a06e-0a2f7113dfb6"
      },
      "f8172fed-7a45-49b9-a4c7-734c79195fd8": {
       "attrs": {
        "height": 0.8,
        "width": 0.8,
        "x": 0.1,
        "y": 0.1
       },
       "content": {
        "cell": "2c7a7f15-280a-4ca1-8752-5852f2883b0e",
        "part": "whole"
       },
       "id": "f8172fed-7a45-49b9-a4c7-734c79195fd8"
      }
     }
    },
    "2f08fc76-506a-436a-a001-57cd459bc10e": {
     "id": "2f08fc76-506a-436a-a001-57cd459bc10e",
     "prev": "72eab6bc-5c13-48f0-bbdd-55c413e7356c",
     "regions": {
      "32e25f03-3d86-49ad-b4d1-d85dfb16658e": {
       "attrs": {
        "height": 0.8,
        "width": 0.8,
        "x": 0.1,
        "y": 0.1
       },
       "content": {
        "cell": "3f0d0a60-76bb-4da1-bd78-422dd3f03aa9",
        "part": "whole"
       },
       "id": "32e25f03-3d86-49ad-b4d1-d85dfb16658e"
      },
      "5839e18b-9098-47b8-bd8a-98935c00e1e5": {
       "attrs": {
        "height": 0.4,
        "width": 0.8,
        "x": 0.1,
        "y": 0.5
       },
       "content": {
        "cell": "3a9a3ce1-90c6-40e2-ad2a-934079abea25",
        "part": "whole"
       },
       "id": "5839e18b-9098-47b8-bd8a-98935c00e1e5"
      }
     }
    },
    "2f0cb708-e8f5-4bc4-8e52-6d0510cc2f7e": {
     "id": "2f0cb708-e8f5-4bc4-8e52-6d0510cc2f7e",
     "prev": "e2348bdb-3ba2-45f4-ad55-415ed9ff5540",
     "regions": {
      "419de7ca-967b-43cc-a106-ec2945ef5786": {
       "attrs": {
        "height": 0.4,
        "width": 0.8,
        "x": 0.1,
        "y": 0.5
       },
       "content": {
        "cell": "2f1f753d-37c5-497a-ae5c-0c533ed54e91",
        "part": "whole"
       },
       "id": "419de7ca-967b-43cc-a106-ec2945ef5786"
      },
      "508182a7-bb0f-45d4-bd0e-f3557f567d95": {
       "attrs": {
        "height": 0.8,
        "width": 0.8,
        "x": 0.1,
        "y": 0.1
       },
       "content": {
        "cell": "3f4cd2d0-3b8e-40b3-ba6b-0853c8a8b46e",
        "part": "whole"
       },
       "id": "508182a7-bb0f-45d4-bd0e-f3557f567d95"
      },
      "f55c88ee-fc85-4c09-804f-d48a7b7506e0": {
       "attrs": {
        "height": 0.4,
        "width": 0.8,
        "x": 0.1,
        "y": 0.5
       },
       "content": {
        "cell": "b26d27b2-1e68-4ba5-8d98-a8141448d9e5",
        "part": "whole"
       },
       "id": "f55c88ee-fc85-4c09-804f-d48a7b7506e0"
      }
     }
    },
    "350a7bd9-42fc-4394-b958-5afe2d830238": {
     "id": "350a7bd9-42fc-4394-b958-5afe2d830238",
     "prev": "4be02312-304d-4f97-928e-5ff23e461620",
     "regions": {
      "3f1464dd-8225-4a40-a95b-2a462269b3ec": {
       "attrs": {
        "height": 0.8,
        "width": 0.8,
        "x": 0.1,
        "y": 0.1
       },
       "content": {
        "cell": "a611d48a-6bcb-4274-bae3-6d50512fdf09",
        "part": "whole"
       },
       "id": "3f1464dd-8225-4a40-a95b-2a462269b3ec"
      },
      "5f43454d-d4c1-4f03-9c62-e719e2352322": {
       "attrs": {
        "height": 0.4,
        "width": 0.8,
        "x": 0.1,
        "y": 0.5
       },
       "content": {
        "cell": "34cc706b-ff2f-45b8-ba7b-59b75135c02e",
        "part": "whole"
       },
       "id": "5f43454d-d4c1-4f03-9c62-e719e2352322"
      },
      "603befb3-2674-436e-b07a-27aea83ee9b7": {
       "attrs": {
        "height": 0.4,
        "width": 0.8,
        "x": 0.1,
        "y": 0.5
       },
       "content": {
        "cell": "dc9b5653-368a-44d0-b35d-748971617072",
        "part": "whole"
       },
       "id": "603befb3-2674-436e-b07a-27aea83ee9b7"
      },
      "67cf9ace-457c-4b98-b291-9718aaa54a9f": {
       "attrs": {
        "height": 0.4,
        "width": 0.8,
        "x": 0.1,
        "y": 0.5
       },
       "content": {
        "cell": "c851bd48-df5a-4be0-b178-67a8404cbc62",
        "part": "whole"
       },
       "id": "67cf9ace-457c-4b98-b291-9718aaa54a9f"
      },
      "d9ff66ec-d319-4e2f-9073-99aea3073caf": {
       "attrs": {
        "height": 0.4,
        "width": 0.8,
        "x": 0.1,
        "y": 0.5
       },
       "content": {
        "cell": "60323647-c87d-41cc-b73c-36e97b2907bd",
        "part": "whole"
       },
       "id": "d9ff66ec-d319-4e2f-9073-99aea3073caf"
      }
     }
    },
    "3c973d6a-e9bc-4213-abb0-69a8d748a364": {
     "id": "3c973d6a-e9bc-4213-abb0-69a8d748a364",
     "prev": "08cbf3b7-09bf-4e2d-a7bb-669bef598000",
     "regions": {
      "34acf9a1-ec8f-4d55-a554-b05fce65f9e7": {
       "attrs": {
        "height": 0.4,
        "width": 0.8,
        "x": 0.1,
        "y": 0.5
       },
       "content": {
        "cell": "da2c8567-4cc4-4e60-be05-9f015217bde4",
        "part": "whole"
       },
       "id": "34acf9a1-ec8f-4d55-a554-b05fce65f9e7"
      },
      "4ac89145-2170-44da-a9c8-38edba56c308": {
       "attrs": {
        "height": 0.4,
        "width": 0.8,
        "x": 0.1,
        "y": 0.5
       },
       "content": {
        "cell": "5f071bae-78eb-43a4-ae01-5d3e48c59ba9",
        "part": "whole"
       },
       "id": "4ac89145-2170-44da-a9c8-38edba56c308"
      },
      "b78806ae-ae82-4852-8297-7f8f10146dce": {
       "attrs": {
        "height": 0.4,
        "width": 0.8,
        "x": 0.1,
        "y": 0.5
       },
       "content": {
        "cell": "f88a5291-5045-4a53-bc2d-cad368570417",
        "part": "whole"
       },
       "id": "b78806ae-ae82-4852-8297-7f8f10146dce"
      },
      "c24e3f04-cf7c-437f-ad6a-cca33993bb4d": {
       "attrs": {
        "height": 0.8,
        "width": 0.8,
        "x": 0.1,
        "y": 0.1
       },
       "content": {
        "cell": "110c0454-5a9c-4754-a379-2f8bbf5387f0",
        "part": "whole"
       },
       "id": "c24e3f04-cf7c-437f-ad6a-cca33993bb4d"
      },
      "f2bf53a8-af82-43b6-9768-47ad9df1abc8": {
       "attrs": {
        "height": 0.4,
        "width": 0.8,
        "x": 0.1,
        "y": 0.5
       },
       "content": {
        "cell": "a09f3100-3c5c-4e41-ab49-f204406d9727",
        "part": "whole"
       },
       "id": "f2bf53a8-af82-43b6-9768-47ad9df1abc8"
      }
     }
    },
    "3f2767d4-1685-48e2-9396-efb6cbbc61dc": {
     "id": "3f2767d4-1685-48e2-9396-efb6cbbc61dc",
     "prev": "fa8362df-d0d0-4967-b2ce-0bc24b041a7b",
     "regions": {
      "394e691c-6357-4a45-9584-37844ec03621": {
       "attrs": {
        "height": 0.4,
        "width": 0.8,
        "x": 0.1,
        "y": 0.5
       },
       "content": {
        "cell": "4d00ecb6-3fef-4f2d-be90-3eb3e072be9a",
        "part": "whole"
       },
       "id": "394e691c-6357-4a45-9584-37844ec03621"
      },
      "3f08aa5d-8ea8-4f3f-bab4-68fbe3e8f4e0": {
       "attrs": {
        "height": 0.4,
        "width": 0.8,
        "x": 0.1,
        "y": 0.5
       },
       "content": {
        "cell": "cda597e6-aed9-478f-9bec-db309fc7cee3",
        "part": "whole"
       },
       "id": "3f08aa5d-8ea8-4f3f-bab4-68fbe3e8f4e0"
      },
      "42c0b288-525b-4aa3-9451-e999a2af27c4": {
       "attrs": {
        "height": 0.4,
        "width": 0.8,
        "x": 0.1,
        "y": 0.5
       },
       "content": {
        "cell": "0c8084cb-dc2d-445f-b87a-1ee52c5826cb",
        "part": "whole"
       },
       "id": "42c0b288-525b-4aa3-9451-e999a2af27c4"
      },
      "90c7ddab-b5a4-45a0-a18d-03b871cfdb0f": {
       "attrs": {
        "height": 0.8,
        "width": 0.8,
        "x": 0.1,
        "y": 0.1
       },
       "content": {
        "cell": "b95f0af4-9089-4a02-8173-fc2051d161f6",
        "part": "whole"
       },
       "id": "90c7ddab-b5a4-45a0-a18d-03b871cfdb0f"
      }
     }
    },
    "4be02312-304d-4f97-928e-5ff23e461620": {
     "id": "4be02312-304d-4f97-928e-5ff23e461620",
     "prev": "78715b1e-7d4a-4385-90ee-d04faae5b7ce",
     "regions": {
      "395c9d4f-7c41-42a5-899b-b496a52b6656": {
       "attrs": {
        "height": 0.4,
        "width": 0.8,
        "x": 0.1,
        "y": 0.5
       },
       "content": {
        "cell": "38713a58-b89e-44f7-9317-82c232b11bb6",
        "part": "whole"
       },
       "id": "395c9d4f-7c41-42a5-899b-b496a52b6656"
      },
      "d5aa9431-911b-402e-bb85-9f3b4f9cde52": {
       "attrs": {
        "height": 0.8,
        "width": 0.8,
        "x": 0.1,
        "y": 0.1
       },
       "content": {
        "cell": "26b2096e-cf66-4f15-85a7-123f6faebe71",
        "part": "whole"
       },
       "id": "d5aa9431-911b-402e-bb85-9f3b4f9cde52"
      }
     }
    },
    "66da7c99-5473-4fde-abc5-14ff1f24944c": {
     "id": "66da7c99-5473-4fde-abc5-14ff1f24944c",
     "prev": null,
     "regions": {
      "cddc6c40-2f5a-4772-a542-863ce74bcee0": {
       "attrs": {
        "height": 0.8,
        "width": 0.8,
        "x": 0.1,
        "y": 0.1
       },
       "content": {
        "cell": "8043c60e-9264-43a5-93d5-3f81e76a08e9",
        "part": "whole"
       },
       "id": "cddc6c40-2f5a-4772-a542-863ce74bcee0"
      }
     },
     "theme": null
    },
    "72eab6bc-5c13-48f0-bbdd-55c413e7356c": {
     "id": "72eab6bc-5c13-48f0-bbdd-55c413e7356c",
     "prev": "2f0cb708-e8f5-4bc4-8e52-6d0510cc2f7e",
     "regions": {
      "1c21434a-1960-4afc-a8c7-96827c8101c1": {
       "attrs": {
        "height": 0.4,
        "width": 0.8,
        "x": 0.1,
        "y": 0.5
       },
       "content": {
        "cell": "3ef7ac4e-85c1-42dc-a24c-c8bd919b02c3",
        "part": "whole"
       },
       "id": "1c21434a-1960-4afc-a8c7-96827c8101c1"
      },
      "227aa851-2359-4f67-8e38-56f78964a3a2": {
       "attrs": {
        "height": 0.8,
        "width": 0.8,
        "x": 0.1,
        "y": 0.1
       },
       "content": {
        "cell": "917e35fa-a529-4d20-91b8-683a9d7958ad",
        "part": "whole"
       },
       "id": "227aa851-2359-4f67-8e38-56f78964a3a2"
      },
      "784b3013-ba7a-45be-80fd-fafff32e654c": {
       "attrs": {
        "height": 0.4,
        "width": 0.8,
        "x": 0.1,
        "y": 0.5
       },
       "content": {
        "cell": "33fc71bd-0869-4ee4-ad97-77d17dfe9060",
        "part": "whole"
       },
       "id": "784b3013-ba7a-45be-80fd-fafff32e654c"
      }
     }
    },
    "77c56d86-ac62-441a-b637-c28c416c0f3b": {
     "id": "77c56d86-ac62-441a-b637-c28c416c0f3b",
     "prev": "350a7bd9-42fc-4394-b958-5afe2d830238",
     "regions": {
      "308dd9d6-9ef2-44a9-9be3-bdba35e97b3d": {
       "attrs": {
        "height": 0.4,
        "width": 0.8,
        "x": 0.1,
        "y": 0.5
       },
       "content": {
        "cell": "59e970ae-5206-4784-a215-497dd643e915",
        "part": "whole"
       },
       "id": "308dd9d6-9ef2-44a9-9be3-bdba35e97b3d"
      },
      "71265642-930c-411b-be49-2e96ef5f99bc": {
       "attrs": {
        "height": 0.4,
        "width": 0.8,
        "x": 0.1,
        "y": 0.5
       },
       "content": {
        "cell": "10eba1b2-e23e-4a6d-b65b-501be28a364b",
        "part": "whole"
       },
       "id": "71265642-930c-411b-be49-2e96ef5f99bc"
      },
      "b619ae6f-5599-4197-a836-840fcb342956": {
       "attrs": {
        "height": 0.8,
        "width": 0.8,
        "x": 0.1,
        "y": 0.1
       },
       "content": {
        "cell": "29a0fbc7-b7f2-4421-982c-e7a07f1bde16",
        "part": "whole"
       },
       "id": "b619ae6f-5599-4197-a836-840fcb342956"
      }
     }
    },
    "784b9f54-8d1f-44b3-a3ef-478627ee3d66": {
     "id": "784b9f54-8d1f-44b3-a3ef-478627ee3d66",
     "prev": "dadb12e3-ae58-4c42-b0ea-06373c4a431c",
     "regions": {
      "39a7a53d-fbd5-4d48-bb6b-b61cc2d3fd5b": {
       "attrs": {
        "height": 0.4,
        "width": 0.8,
        "x": 0.1,
        "y": 0.5
       },
       "content": {
        "cell": "3708d043-1fa9-40dc-b5c2-d87028af4282",
        "part": "whole"
       },
       "id": "39a7a53d-fbd5-4d48-bb6b-b61cc2d3fd5b"
      },
      "4acf35f1-15bf-466a-95f0-5b23c636d8e0": {
       "attrs": {
        "height": 0.8,
        "width": 0.8,
        "x": 0.1,
        "y": 0.1
       },
       "content": {
        "cell": "e48e5499-6521-4dda-9d21-d15ee6642fc0",
        "part": "whole"
       },
       "id": "4acf35f1-15bf-466a-95f0-5b23c636d8e0"
      },
      "95a037ef-83fc-4a0b-8d43-6025c0b2de7c": {
       "attrs": {
        "height": 0.4,
        "width": 0.8,
        "x": 0.1,
        "y": 0.5
       },
       "content": {
        "cell": "3cebb4b0-5d5f-42b0-97eb-21415802a73c",
        "part": "whole"
       },
       "id": "95a037ef-83fc-4a0b-8d43-6025c0b2de7c"
      },
      "e85a7ad4-36ca-49f6-87ff-20a51cd777cb": {
       "attrs": {
        "height": 0.4,
        "width": 0.8,
        "x": 0.1,
        "y": 0.5
       },
       "content": {
        "cell": "da5dfe07-74dc-4d06-9294-8c48143fac79",
        "part": "whole"
       },
       "id": "e85a7ad4-36ca-49f6-87ff-20a51cd777cb"
      }
     }
    },
    "78715b1e-7d4a-4385-90ee-d04faae5b7ce": {
     "id": "78715b1e-7d4a-4385-90ee-d04faae5b7ce",
     "prev": "784b9f54-8d1f-44b3-a3ef-478627ee3d66",
     "regions": {
      "121cac40-dd0d-42e0-8354-ff86e9be2c4a": {
       "attrs": {
        "height": 0.4,
        "width": 0.8,
        "x": 0.1,
        "y": 0.5
       },
       "content": {
        "cell": "05aa375c-84bd-4032-989d-c3dbf618ff9c",
        "part": "whole"
       },
       "id": "121cac40-dd0d-42e0-8354-ff86e9be2c4a"
      },
      "353d960f-eccd-4329-9fe4-1e05fc87d7df": {
       "attrs": {
        "height": 0.8,
        "width": 0.8,
        "x": 0.1,
        "y": 0.1
       },
       "content": {
        "cell": "c6900de4-08a9-46b1-acc4-8fe534c613f9",
        "part": "whole"
       },
       "id": "353d960f-eccd-4329-9fe4-1e05fc87d7df"
      },
      "97d037ea-837b-48ac-805d-d392246ad489": {
       "attrs": {
        "height": 0.4,
        "width": 0.8,
        "x": 0.1,
        "y": 0.5
       },
       "content": {
        "cell": "64d92b3d-127c-4ced-964c-f86a93db8487",
        "part": "whole"
       },
       "id": "97d037ea-837b-48ac-805d-d392246ad489"
      },
      "de401a81-2c80-4452-869c-763e261781da": {
       "attrs": {
        "height": 0.4,
        "width": 0.8,
        "x": 0.1,
        "y": 0.5
       },
       "content": {
        "cell": "dc279304-7d4d-4030-9fb4-ba45a5937d35",
        "part": "whole"
       },
       "id": "de401a81-2c80-4452-869c-763e261781da"
      }
     }
    },
    "809c5d54-cb2b-4ee6-b489-5be655e7f76a": {
     "id": "809c5d54-cb2b-4ee6-b489-5be655e7f76a",
     "prev": "ce512c0b-94ce-43fa-bbc6-3f226d4bbf5a",
     "regions": {
      "2ecffdb9-e84b-4c01-9dff-b3749a4b4af7": {
       "attrs": {
        "height": 0.4,
        "width": 0.8,
        "x": 0.1,
        "y": 0.5
       },
       "content": {
        "cell": "6e6c3715-7bbe-4842-a007-8b6a410efe24",
        "part": "whole"
       },
       "id": "2ecffdb9-e84b-4c01-9dff-b3749a4b4af7"
      },
      "6a241d03-ae96-43ef-bb10-4e3786697390": {
       "attrs": {
        "height": 0.4,
        "width": 0.8,
        "x": 0.1,
        "y": 0.5
       },
       "content": {
        "cell": "9cdb3b68-bb7d-4ca5-96c1-cbfd571dcfd0",
        "part": "whole"
       },
       "id": "6a241d03-ae96-43ef-bb10-4e3786697390"
      },
      "ce126b3a-e547-44a5-96c4-20595ead57b1": {
       "attrs": {
        "height": 0.4,
        "width": 0.8,
        "x": 0.1,
        "y": 0.5
       },
       "content": {
        "cell": "f74d10b8-0fff-463a-afe4-1e944732061c",
        "part": "whole"
       },
       "id": "ce126b3a-e547-44a5-96c4-20595ead57b1"
      },
      "cf10ddc0-4b09-4485-be24-b89051adfa36": {
       "attrs": {
        "height": 0.4,
        "width": 0.8,
        "x": 0.1,
        "y": 0.5
       },
       "content": {
        "cell": "41a186e7-808d-499a-a6df-7163d743be8b",
        "part": "whole"
       },
       "id": "cf10ddc0-4b09-4485-be24-b89051adfa36"
      },
      "d7569640-ce29-48be-aecb-d8c8a3c09907": {
       "attrs": {
        "height": 0.8,
        "width": 0.8,
        "x": 0.1,
        "y": 0.1
       },
       "content": {
        "cell": "dc9f19bc-dcc4-443c-b27e-e8c074f0223b",
        "part": "whole"
       },
       "id": "d7569640-ce29-48be-aecb-d8c8a3c09907"
      }
     }
    },
    "b27537c7-1de5-4549-8ab3-8616f123d906": {
     "id": "b27537c7-1de5-4549-8ab3-8616f123d906",
     "prev": "3c973d6a-e9bc-4213-abb0-69a8d748a364",
     "regions": {
      "defdfd03-c438-4b11-9bc7-d70581ff70ec": {
       "attrs": {
        "height": 0.8,
        "width": 0.8,
        "x": 0.1,
        "y": 0.1
       },
       "content": {
        "cell": "002aa7af-e7f3-4a01-a554-99e1227d79f3",
        "part": "whole"
       },
       "id": "defdfd03-c438-4b11-9bc7-d70581ff70ec"
      }
     }
    },
    "b407c083-3f01-4305-953e-7ba26fd64b5d": {
     "id": "b407c083-3f01-4305-953e-7ba26fd64b5d",
     "prev": "b27537c7-1de5-4549-8ab3-8616f123d906",
     "regions": {
      "71158419-75d5-4a45-82cb-b3a26c161fe3": {
       "attrs": {
        "height": 0.8,
        "width": 0.8,
        "x": 0.1,
        "y": 0.1
       },
       "content": {
        "cell": "f1dc73f9-8745-40ed-b00d-07a740b457f5",
        "part": "whole"
       },
       "id": "71158419-75d5-4a45-82cb-b3a26c161fe3"
      },
      "f22190a5-b3d3-4ba1-bc51-4098d3285f85": {
       "attrs": {
        "height": 0.4,
        "width": 0.8,
        "x": 0.1,
        "y": 0.5
       },
       "content": {
        "cell": "e29656f8-7417-4f5f-972a-02d4568419c5",
        "part": "whole"
       },
       "id": "f22190a5-b3d3-4ba1-bc51-4098d3285f85"
      }
     }
    },
    "bed18a91-f54c-4106-9447-9dc97d33ace4": {
     "id": "bed18a91-f54c-4106-9447-9dc97d33ace4",
     "prev": "fe3da8de-836b-4889-a4ab-629b26217b67",
     "regions": {
      "d6b7dcb3-bef5-44e8-b74b-c142df5ebba2": {
       "attrs": {
        "height": 0.8,
        "width": 0.8,
        "x": 0.1,
        "y": 0.1
       },
       "content": {
        "cell": "ae4b457d-959b-41ca-8571-92c70a2dc5a6",
        "part": "whole"
       },
       "id": "d6b7dcb3-bef5-44e8-b74b-c142df5ebba2"
      }
     }
    },
    "c4d2da00-bd89-4407-8579-aa26076c58f0": {
     "id": "c4d2da00-bd89-4407-8579-aa26076c58f0",
     "prev": "ef8678ac-0540-4f50-a0b0-d0896fb4b534",
     "regions": {
      "4fb8e26b-d6f9-4bb1-8d3f-e4bf29be0564": {
       "attrs": {
        "height": 0.8,
        "width": 0.8,
        "x": 0.1,
        "y": 0.1
       },
       "content": {
        "cell": "3a4bb641-60ad-41aa-ba0b-168114f66123",
        "part": "whole"
       },
       "id": "4fb8e26b-d6f9-4bb1-8d3f-e4bf29be0564"
      }
     }
    },
    "ce512c0b-94ce-43fa-bbc6-3f226d4bbf5a": {
     "id": "ce512c0b-94ce-43fa-bbc6-3f226d4bbf5a",
     "prev": "dda4eda5-514d-4280-a559-bd74c8c104c3",
     "regions": {
      "1ca181e6-13b4-4422-ad93-a9fc9ac8000f": {
       "attrs": {
        "height": 0.4,
        "width": 0.8,
        "x": 0.1,
        "y": 0.5
       },
       "content": {
        "cell": "a9d6971f-f5ae-4b1b-b6e3-e55c8888df85",
        "part": "whole"
       },
       "id": "1ca181e6-13b4-4422-ad93-a9fc9ac8000f"
      },
      "5e0e1839-9110-4d4d-bdd7-dae58e7ebcba": {
       "attrs": {
        "height": 0.8,
        "width": 0.8,
        "x": 0.1,
        "y": 0.1
       },
       "content": {
        "cell": "6387a7f2-b75f-46c7-9e97-a84cd6d7f572",
        "part": "whole"
       },
       "id": "5e0e1839-9110-4d4d-bdd7-dae58e7ebcba"
      }
     }
    },
    "dadb12e3-ae58-4c42-b0ea-06373c4a431c": {
     "id": "dadb12e3-ae58-4c42-b0ea-06373c4a431c",
     "prev": "2f08fc76-506a-436a-a001-57cd459bc10e",
     "regions": {
      "043ab3da-aef9-416f-b902-5f5fbfe320ba": {
       "attrs": {
        "height": 0.4,
        "width": 0.8,
        "x": 0.1,
        "y": 0.5
       },
       "content": {
        "cell": "f7b34bd5-c053-4979-8158-2f50748f7675",
        "part": "whole"
       },
       "id": "043ab3da-aef9-416f-b902-5f5fbfe320ba"
      },
      "558f6345-14cb-4521-9730-eef3c0ebc9ca": {
       "attrs": {
        "height": 0.4,
        "width": 0.8,
        "x": 0.1,
        "y": 0.5
       },
       "content": {
        "cell": "94aaefd8-aab9-4c42-acb2-941a64967264",
        "part": "whole"
       },
       "id": "558f6345-14cb-4521-9730-eef3c0ebc9ca"
      },
      "7ee05790-958f-4c12-aa1c-777e4163b86e": {
       "attrs": {
        "height": 0.4,
        "width": 0.8,
        "x": 0.1,
        "y": 0.5
       },
       "content": {
        "cell": "a32bed8e-6037-4c04-bcda-421832d9dc56",
        "part": "whole"
       },
       "id": "7ee05790-958f-4c12-aa1c-777e4163b86e"
      },
      "ac119c18-2ded-42e9-be27-af8c465be319": {
       "attrs": {
        "height": 0.4,
        "width": 0.8,
        "x": 0.1,
        "y": 0.5
       },
       "content": {
        "cell": "2213bd0e-a129-43c6-9a49-7cad724ac2b4",
        "part": "whole"
       },
       "id": "ac119c18-2ded-42e9-be27-af8c465be319"
      },
      "d2720b60-81f1-4455-a5f9-846eac423dfe": {
       "attrs": {
        "height": 0.8,
        "width": 0.8,
        "x": 0.1,
        "y": 0.1
       },
       "content": {
        "cell": "373921a8-9ede-4197-8cee-b82437f5aa64",
        "part": "whole"
       },
       "id": "d2720b60-81f1-4455-a5f9-846eac423dfe"
      }
     }
    },
    "dda4eda5-514d-4280-a559-bd74c8c104c3": {
     "id": "dda4eda5-514d-4280-a559-bd74c8c104c3",
     "prev": "bed18a91-f54c-4106-9447-9dc97d33ace4",
     "regions": {
      "5d7b4cc1-7f00-4e56-98f8-63505e3c232d": {
       "attrs": {
        "height": 0.4,
        "width": 0.8,
        "x": 0.1,
        "y": 0.5
       },
       "content": {
        "cell": "265acf8c-7e77-4dc8-8dc2-3b41be08da83",
        "part": "whole"
       },
       "id": "5d7b4cc1-7f00-4e56-98f8-63505e3c232d"
      },
      "88d6daf1-b76a-4514-aae4-cb188ae70178": {
       "attrs": {
        "height": 0.4,
        "width": 0.8,
        "x": 0.1,
        "y": 0.5
       },
       "content": {
        "cell": "46839b0a-7318-49c4-ba0a-c7990ba40c4f",
        "part": "whole"
       },
       "id": "88d6daf1-b76a-4514-aae4-cb188ae70178"
      },
      "c1f03cf3-d740-44e7-b66c-1bb01c6f957f": {
       "attrs": {
        "height": 0.8,
        "width": 0.8,
        "x": 0.1,
        "y": 0.1
       },
       "content": {
        "cell": "1b36334e-b088-48a5-9f79-28e8f4c7731d",
        "part": "whole"
       },
       "id": "c1f03cf3-d740-44e7-b66c-1bb01c6f957f"
      }
     }
    },
    "e2348bdb-3ba2-45f4-ad55-415ed9ff5540": {
     "id": "e2348bdb-3ba2-45f4-ad55-415ed9ff5540",
     "prev": "3f2767d4-1685-48e2-9396-efb6cbbc61dc",
     "regions": {
      "26bc2feb-d03f-4ce7-a56c-b468559beb28": {
       "attrs": {
        "height": 0.4,
        "width": 0.8,
        "x": 0.1,
        "y": 0.5
       },
       "content": {
        "cell": "01c097a1-b040-463f-ad8a-e9ff3617606d",
        "part": "whole"
       },
       "id": "26bc2feb-d03f-4ce7-a56c-b468559beb28"
      },
      "78d57727-7104-482f-a33a-074e9c66acac": {
       "attrs": {
        "height": 0.4,
        "width": 0.8,
        "x": 0.1,
        "y": 0.5
       },
       "content": {
        "cell": "405a573a-b42f-4099-a9b9-d4004ffc1e6d",
        "part": "whole"
       },
       "id": "78d57727-7104-482f-a33a-074e9c66acac"
      },
      "797af71b-41d3-4c38-bf3b-8442c379594a": {
       "attrs": {
        "height": 0.4,
        "width": 0.8,
        "x": 0.1,
        "y": 0.5
       },
       "content": {
        "cell": "8586e12f-9d8f-48f5-9dab-8485f02c37ba",
        "part": "whole"
       },
       "id": "797af71b-41d3-4c38-bf3b-8442c379594a"
      },
      "bf310390-8a94-4f60-94dd-77996c2a5100": {
       "attrs": {
        "height": 0.8,
        "width": 0.8,
        "x": 0.1,
        "y": 0.1
       },
       "content": {
        "cell": "9aeba9ea-b9b8-4713-a361-8b8799bcd827",
        "part": "whole"
       },
       "id": "bf310390-8a94-4f60-94dd-77996c2a5100"
      }
     }
    },
    "e66ce0b2-0da8-4e70-b485-bc633ae610b1": {
     "id": "e66ce0b2-0da8-4e70-b485-bc633ae610b1",
     "prev": "809c5d54-cb2b-4ee6-b489-5be655e7f76a",
     "regions": {
      "371d8de5-99ac-46ff-afe4-d7b84f3cc073": {
       "attrs": {
        "height": 0.4,
        "width": 0.8,
        "x": 0.1,
        "y": 0.5
       },
       "content": {
        "cell": "c2cfcf5d-ea69-412f-aff1-bab5e240021f",
        "part": "whole"
       },
       "id": "371d8de5-99ac-46ff-afe4-d7b84f3cc073"
      },
      "4a45f51a-7f93-4ab7-8593-839253f38797": {
       "attrs": {
        "height": 0.4,
        "width": 0.8,
        "x": 0.1,
        "y": 0.5
       },
       "content": {
        "cell": "5347e33d-9387-4805-9422-e670473079a9",
        "part": "whole"
       },
       "id": "4a45f51a-7f93-4ab7-8593-839253f38797"
      },
      "4b5a3b9c-10cb-4fb2-9309-6fde835e50e1": {
       "attrs": {
        "height": 0.8,
        "width": 0.8,
        "x": 0.1,
        "y": 0.1
       },
       "content": {
        "cell": "30022299-75c8-4706-b099-46ecbbd14db4",
        "part": "whole"
       },
       "id": "4b5a3b9c-10cb-4fb2-9309-6fde835e50e1"
      }
     }
    },
    "ef8678ac-0540-4f50-a0b0-d0896fb4b534": {
     "id": "ef8678ac-0540-4f50-a0b0-d0896fb4b534",
     "prev": "66da7c99-5473-4fde-abc5-14ff1f24944c",
     "regions": {
      "6dc08ff2-77cc-4e7b-a9fb-9fdfb46e88a7": {
       "attrs": {
        "height": 0.8,
        "width": 0.8,
        "x": 0.1,
        "y": 0.1
       },
       "content": {
        "cell": "679a49fa-4450-4ac5-a09b-4c26467bb0cf",
        "part": "whole"
       },
       "id": "6dc08ff2-77cc-4e7b-a9fb-9fdfb46e88a7"
      }
     }
    },
    "fa8362df-d0d0-4967-b2ce-0bc24b041a7b": {
     "id": "fa8362df-d0d0-4967-b2ce-0bc24b041a7b",
     "prev": "c4d2da00-bd89-4407-8579-aa26076c58f0",
     "regions": {
      "353d7ed9-0403-48a9-87d9-97ff19fbe977": {
       "attrs": {
        "height": 0.4,
        "width": 0.8,
        "x": 0.1,
        "y": 0.5
       },
       "content": {
        "cell": "c03609c2-22d7-453c-87df-4a4822599bfa",
        "part": "whole"
       },
       "id": "353d7ed9-0403-48a9-87d9-97ff19fbe977"
      },
      "4f763f24-d210-441b-a0fa-d293306ce7a7": {
       "attrs": {
        "height": 0.8,
        "width": 0.8,
        "x": 0.1,
        "y": 0.1
       },
       "content": {
        "cell": "a113b645-8c8d-4a1d-9c6f-eaf5287c3b60",
        "part": "whole"
       },
       "id": "4f763f24-d210-441b-a0fa-d293306ce7a7"
      },
      "f210b6c0-c327-42ca-bd33-e7393490769b": {
       "attrs": {
        "height": 0.4,
        "width": 0.8,
        "x": 0.1,
        "y": 0.5
       },
       "content": {
        "cell": "c4d89d4b-4241-4506-84b0-aa70f30d974a",
        "part": "whole"
       },
       "id": "f210b6c0-c327-42ca-bd33-e7393490769b"
      },
      "fc00f419-018b-4dd1-b15d-fd5800a850aa": {
       "attrs": {
        "height": 0.4,
        "width": 0.8,
        "x": 0.1,
        "y": 0.5
       },
       "content": {
        "cell": "6ae7fdb2-21e4-4be3-afc5-005b6a0040e8",
        "part": "whole"
       },
       "id": "fc00f419-018b-4dd1-b15d-fd5800a850aa"
      }
     }
    },
    "fe3da8de-836b-4889-a4ab-629b26217b67": {
     "id": "fe3da8de-836b-4889-a4ab-629b26217b67",
     "prev": "77c56d86-ac62-441a-b637-c28c416c0f3b",
     "regions": {
      "0f12d54b-4c00-4957-a24a-ea9318feed8b": {
       "attrs": {
        "height": 0.4,
        "width": 0.8,
        "x": 0.1,
        "y": 0.5
       },
       "content": {
        "cell": "571fc88a-3513-4b40-8787-16ab28050fbf",
        "part": "whole"
       },
       "id": "0f12d54b-4c00-4957-a24a-ea9318feed8b"
      },
      "86dff081-6b80-4df6-8ba1-745929dcff74": {
       "attrs": {
        "height": 0.8,
        "width": 0.8,
        "x": 0.1,
        "y": 0.1
       },
       "content": {
        "cell": "b4670e0f-49da-48a8-bc82-640a954d2f54",
        "part": "whole"
       },
       "id": "86dff081-6b80-4df6-8ba1-745929dcff74"
      }
     }
    }
   },
   "themes": {
    "default": "494ee13b-4963-4ee7-9c53-3d837a60e208",
    "theme": {}
   }
  }
 },
 "nbformat": 4,
 "nbformat_minor": 1
}
